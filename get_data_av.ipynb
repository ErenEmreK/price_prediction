{
 "cells": [
  {
   "cell_type": "code",
   "execution_count": 5,
   "metadata": {},
   "outputs": [],
   "source": [
    "#This file ultimately will get all relevant attributes for possible companies\n",
    "#And will write into a csv file\n",
    "\n",
    "import pandas as pd\n",
    "import requests\n",
    "import csv\n",
    "\n",
    "API_KEY = 'ALPHAVANTAGE_API_KEY'\n",
    "FREQUENCY = 'MONTHLY' #we can set this to 'DAILY' or 'WEEKLY'"
   ]
  },
  {
   "cell_type": "code",
   "execution_count": 2,
   "metadata": {},
   "outputs": [],
   "source": [
    "def listing_status_request():\n",
    "    #This fn will get current listing status csv file\n",
    "    #We dont need right now\n",
    "    path = 'data/av_listing_status.csv'\n",
    "    \n",
    "    #Can replace \"demo\" with or API key, though not necessary\n",
    "    url = 'https://www.alphavantage.co/query?function=LISTING_STATUS&apikey={}'\n",
    "    response = requests.get(url.format(\"demo\"))\n",
    "      \n",
    "    if response.status_code == 200:\n",
    "        with open(path, 'wb') as f:\n",
    "            f.write(response.content)\n",
    "        print(\"Listing Status CSV file saved successfully.\")\n",
    "    else:\n",
    "        print(\"Failed to fetch data from the URL.\")"
   ]
  },
  {
   "cell_type": "code",
   "execution_count": 14,
   "metadata": {},
   "outputs": [],
   "source": [
    "def get_symbols():\n",
    "    #TODO data arranging, return listed and delisted company symbols as lists\n",
    "    #df = pd.read_csv('data\\listing_status.csv')\n",
    "       \n",
    "    #we are gonna return small sample for now\n",
    "\n",
    "    listed = ['AAPL', 'AAPU', 'GOOGL', 'MSFT', 'ABAT', 'ABBV', 'ABCB', 'ABCL', 'ABCS', 'ABEO', 'ABEQ', 'ABEV', 'ABG', 'ABIO', 'ABL', 'ABLLL', 'ABLLW']\n",
    "    delisted = ['TINY', 'TIOA', 'TIOAU', 'TIOAW', 'TIPD', 'TIPL', 'TIS', 'TISA', 'TIVO', 'TKF', 'TKKSR', 'TKKSU', 'TKMR', 'TKPPY', 'TLC', 'TLCVF', 'TLDH']\n",
    "\n",
    "    #we test listed ones for now\n",
    "    return delisted"
   ]
  },
  {
   "cell_type": "code",
   "execution_count": 12,
   "metadata": {},
   "outputs": [],
   "source": [
    "def get_data_files(symbols):\n",
    "    fieldnames = ['date', 'open', 'high', 'low', 'close', 'volume']     \n",
    "    \n",
    "    for symbol in symbols:\n",
    "        url = f'https://www.alphavantage.co/query?function=TIME_SERIES_{FREQUENCY}&symbol={symbol}&apikey={API_KEY}'\n",
    "        response = requests.get(url)\n",
    "        \n",
    "        if response.status_code == 200:\n",
    "            data = response.json()\n",
    "            time_series = data.get('Monthly Time Series')\n",
    "            \n",
    "            if time_series:\n",
    "                with open(f'data/av_attributes/{symbol}.csv', 'w', newline='') as csvfile:  \n",
    "                    writer = csv.DictWriter(csvfile, fieldnames=fieldnames)\n",
    "                    writer.writeheader()\n",
    "                    \n",
    "                    for date, values in time_series.items():\n",
    "                        writer.writerow({\n",
    "                            'date': date,\n",
    "                            'open': values['1. open'],\n",
    "                            'high': values['2. high'],\n",
    "                            'low': values['3. low'],\n",
    "                            'close': values['4. close'],\n",
    "                            'volume': values['5. volume']\n",
    "                        })\n",
    "            else:\n",
    "                print(f\"Couldn't get the time series data for {symbol}.\")\n",
    "        else: \n",
    "            print(f\"Couldn't fetch the data for {symbol}.\")        \n",
    "            \n",
    "    return "
   ]
  },
  {
   "cell_type": "code",
   "execution_count": 16,
   "metadata": {},
   "outputs": [
    {
     "name": "stdout",
     "output_type": "stream",
     "text": [
      "Couldn't get the time series data for TINY.\n",
      "Couldn't get the time series data for TIOA.\n",
      "Couldn't get the time series data for TIOAU.\n",
      "Couldn't get the time series data for TIOAW.\n",
      "Couldn't get the time series data for TIPD.\n",
      "Couldn't get the time series data for TIPL.\n",
      "Couldn't get the time series data for TIS.\n",
      "Couldn't get the time series data for TISA.\n",
      "Couldn't get the time series data for TIVO.\n",
      "Couldn't get the time series data for TKF.\n",
      "Couldn't get the time series data for TKKSR.\n",
      "Couldn't get the time series data for TKKSU.\n",
      "Couldn't get the time series data for TKMR.\n",
      "Couldn't get the time series data for TKPPY.\n",
      "Couldn't get the time series data for TLC.\n",
      "Couldn't get the time series data for TLCVF.\n",
      "Couldn't get the time series data for TLDH.\n"
     ]
    }
   ],
   "source": [
    "def main():\n",
    "    #ALPHA VANTAGE has very low usage limit for free-tier \n",
    "    #so we won't get data for every symbol\n",
    "    #TODO migrate to Yahoo Finance API instead\n",
    "    symbols = get_symbols()\n",
    "    get_data_files(symbols)\n",
    "\n",
    "main()"
   ]
  }
 ],
 "metadata": {
  "kernelspec": {
   "display_name": "Python 3",
   "language": "python",
   "name": "python3"
  },
  "language_info": {
   "codemirror_mode": {
    "name": "ipython",
    "version": 3
   },
   "file_extension": ".py",
   "mimetype": "text/x-python",
   "name": "python",
   "nbconvert_exporter": "python",
   "pygments_lexer": "ipython3",
   "version": "3.10.11"
  }
 },
 "nbformat": 4,
 "nbformat_minor": 2
}
