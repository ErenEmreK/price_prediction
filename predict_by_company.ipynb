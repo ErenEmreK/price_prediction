{
 "cells": [
  {
   "cell_type": "code",
   "execution_count": 2,
   "metadata": {},
   "outputs": [
    {
     "name": "stdout",
     "output_type": "stream",
     "text": [
      "WARNING:tensorflow:From C:\\Users\\vlns\\AppData\\Local\\Packages\\PythonSoftwareFoundation.Python.3.10_qbz5n2kfra8p0\\LocalCache\\local-packages\\Python310\\site-packages\\keras\\src\\losses.py:2976: The name tf.losses.sparse_softmax_cross_entropy is deprecated. Please use tf.compat.v1.losses.sparse_softmax_cross_entropy instead.\n",
      "\n"
     ]
    }
   ],
   "source": [
    "from keras.models import Sequential\n",
    "from keras.layers import LSTM, Dense, Dropout\n",
    "import os\n",
    "import pandas as pd\n",
    "import numpy as np\n",
    "from predict import preprocess, train_test_split, df_yielder\n",
    "from sklearn.preprocessing import MinMaxScaler\n",
    "\n",
    "TRAIN_RATIO = 0.2\n",
    "TIMESTEP = 12\n"
   ]
  },
  {
   "cell_type": "code",
   "execution_count": 3,
   "metadata": {},
   "outputs": [],
   "source": [
    "def create_model(input_shape):\n",
    "    \n",
    "    model = Sequential()\n",
    "    model.add(LSTM(units=50, input_shape=input_shape))\n",
    "    model.add(Dense(units=1))\n",
    "    model.compile(optimizer='adam',loss='mean_squared_error')\n",
    "    \n",
    "    return model"
   ]
  },
  {
   "cell_type": "code",
   "execution_count": 13,
   "metadata": {},
   "outputs": [],
   "source": [
    "df = preprocess(pd.read_csv('data/yf_attributes/AAPL.csv'))\n",
    "\n",
    "scaler_X = MinMaxScaler(feature_range=(0, 1))\n",
    "scaler_y = MinMaxScaler(feature_range=(0, 1))\n",
    "\n",
    "scaled_X = scaler_X.fit_transform(df)\n",
    "scaled_y = scaler_y.fit_transform(df[['Close']])\n"
   ]
  },
  {
   "cell_type": "code",
   "execution_count": 5,
   "metadata": {},
   "outputs": [],
   "source": [
    "def create_sequences(data, timestep):\n",
    "    X, y = [], []\n",
    "    for i in range(len(data) - timestep):\n",
    "        X.append(data[i:i + timestep]) #Using all data between timesteps\n",
    "        y.append(data[i + timestep, 4]) #Using next timesteps close data as target\n",
    "    \n",
    "    return np.array(X), np.array(y)"
   ]
  },
  {
   "cell_type": "code",
   "execution_count": 6,
   "metadata": {},
   "outputs": [],
   "source": [
    "\n",
    "X, y = create_sequences(scaled_X, TIMESTEP)\n",
    "\n",
    "split_point = int(TRAIN_RATIO * len(X))\n",
    "X_train, X_test = X[:split_point], X[split_point:]\n",
    "y_train, y_test = y[:split_point], y[split_point:]\n",
    "\n",
    "#Shape of X will be (data_length, timesteps, num_features)\n"
   ]
  },
  {
   "cell_type": "code",
   "execution_count": 7,
   "metadata": {},
   "outputs": [
    {
     "name": "stdout",
     "output_type": "stream",
     "text": [
      "WARNING:tensorflow:From C:\\Users\\vlns\\AppData\\Local\\Packages\\PythonSoftwareFoundation.Python.3.10_qbz5n2kfra8p0\\LocalCache\\local-packages\\Python310\\site-packages\\keras\\src\\backend.py:873: The name tf.get_default_graph is deprecated. Please use tf.compat.v1.get_default_graph instead.\n",
      "\n",
      "WARNING:tensorflow:From C:\\Users\\vlns\\AppData\\Local\\Packages\\PythonSoftwareFoundation.Python.3.10_qbz5n2kfra8p0\\LocalCache\\local-packages\\Python310\\site-packages\\keras\\src\\optimizers\\__init__.py:309: The name tf.train.Optimizer is deprecated. Please use tf.compat.v1.train.Optimizer instead.\n",
      "\n",
      "Epoch 1/50\n",
      "WARNING:tensorflow:From C:\\Users\\vlns\\AppData\\Local\\Packages\\PythonSoftwareFoundation.Python.3.10_qbz5n2kfra8p0\\LocalCache\\local-packages\\Python310\\site-packages\\keras\\src\\utils\\tf_utils.py:492: The name tf.ragged.RaggedTensorValue is deprecated. Please use tf.compat.v1.ragged.RaggedTensorValue instead.\n",
      "\n",
      "3/3 [==============================] - 2s 11ms/step - loss: 2.1101e-04\n",
      "Epoch 2/50\n",
      "3/3 [==============================] - 0s 10ms/step - loss: 1.9020e-04\n",
      "Epoch 3/50\n",
      "3/3 [==============================] - 0s 10ms/step - loss: 4.2352e-05\n",
      "Epoch 4/50\n",
      "3/3 [==============================] - 0s 11ms/step - loss: 8.6329e-05\n",
      "Epoch 5/50\n",
      "3/3 [==============================] - 0s 10ms/step - loss: 1.1754e-05\n",
      "Epoch 6/50\n",
      "3/3 [==============================] - 0s 10ms/step - loss: 3.6451e-05\n",
      "Epoch 7/50\n",
      "3/3 [==============================] - 0s 10ms/step - loss: 1.3048e-05\n",
      "Epoch 8/50\n",
      "3/3 [==============================] - 0s 9ms/step - loss: 1.1983e-05\n",
      "Epoch 9/50\n",
      "3/3 [==============================] - 0s 9ms/step - loss: 1.5341e-05\n",
      "Epoch 10/50\n",
      "3/3 [==============================] - 0s 9ms/step - loss: 3.5136e-06\n",
      "Epoch 11/50\n",
      "3/3 [==============================] - 0s 10ms/step - loss: 1.0155e-05\n",
      "Epoch 12/50\n",
      "3/3 [==============================] - 0s 9ms/step - loss: 3.1787e-06\n",
      "Epoch 13/50\n",
      "3/3 [==============================] - 0s 9ms/step - loss: 4.1444e-06\n",
      "Epoch 14/50\n",
      "3/3 [==============================] - 0s 10ms/step - loss: 2.4015e-06\n",
      "Epoch 15/50\n",
      "3/3 [==============================] - 0s 8ms/step - loss: 1.4155e-06\n",
      "Epoch 16/50\n",
      "3/3 [==============================] - 0s 9ms/step - loss: 2.0250e-06\n",
      "Epoch 17/50\n",
      "3/3 [==============================] - 0s 9ms/step - loss: 7.8719e-07\n",
      "Epoch 18/50\n",
      "3/3 [==============================] - 0s 9ms/step - loss: 1.4466e-06\n",
      "Epoch 19/50\n",
      "3/3 [==============================] - 0s 9ms/step - loss: 7.0099e-07\n",
      "Epoch 20/50\n",
      "3/3 [==============================] - 0s 10ms/step - loss: 1.0343e-06\n",
      "Epoch 21/50\n",
      "3/3 [==============================] - 0s 9ms/step - loss: 6.5954e-07\n",
      "Epoch 22/50\n",
      "3/3 [==============================] - 0s 8ms/step - loss: 7.4075e-07\n",
      "Epoch 23/50\n",
      "3/3 [==============================] - 0s 9ms/step - loss: 5.6893e-07\n",
      "Epoch 24/50\n",
      "3/3 [==============================] - 0s 8ms/step - loss: 5.5162e-07\n",
      "Epoch 25/50\n",
      "3/3 [==============================] - 0s 12ms/step - loss: 4.5188e-07\n",
      "Epoch 26/50\n",
      "3/3 [==============================] - 0s 7ms/step - loss: 4.7287e-07\n",
      "Epoch 27/50\n",
      "3/3 [==============================] - 0s 7ms/step - loss: 4.2854e-07\n",
      "Epoch 28/50\n",
      "3/3 [==============================] - 0s 6ms/step - loss: 4.2655e-07\n",
      "Epoch 29/50\n",
      "3/3 [==============================] - 0s 6ms/step - loss: 3.9385e-07\n",
      "Epoch 30/50\n",
      "3/3 [==============================] - 0s 7ms/step - loss: 3.8244e-07\n",
      "Epoch 31/50\n",
      "3/3 [==============================] - 0s 7ms/step - loss: 3.4245e-07\n",
      "Epoch 32/50\n",
      "3/3 [==============================] - 0s 6ms/step - loss: 3.4101e-07\n",
      "Epoch 33/50\n",
      "3/3 [==============================] - 0s 8ms/step - loss: 3.2850e-07\n",
      "Epoch 34/50\n",
      "3/3 [==============================] - 0s 8ms/step - loss: 3.0902e-07\n",
      "Epoch 35/50\n",
      "3/3 [==============================] - 0s 7ms/step - loss: 2.9792e-07\n",
      "Epoch 36/50\n",
      "3/3 [==============================] - 0s 6ms/step - loss: 2.8792e-07\n",
      "Epoch 37/50\n",
      "3/3 [==============================] - 0s 5ms/step - loss: 2.7899e-07\n",
      "Epoch 38/50\n",
      "3/3 [==============================] - 0s 6ms/step - loss: 2.7022e-07\n",
      "Epoch 39/50\n",
      "3/3 [==============================] - 0s 7ms/step - loss: 2.5900e-07\n",
      "Epoch 40/50\n",
      "3/3 [==============================] - 0s 6ms/step - loss: 2.5132e-07\n",
      "Epoch 41/50\n",
      "3/3 [==============================] - 0s 6ms/step - loss: 2.4676e-07\n",
      "Epoch 42/50\n",
      "3/3 [==============================] - 0s 7ms/step - loss: 2.3511e-07\n",
      "Epoch 43/50\n",
      "3/3 [==============================] - 0s 8ms/step - loss: 2.2808e-07\n",
      "Epoch 44/50\n",
      "3/3 [==============================] - 0s 8ms/step - loss: 2.2019e-07\n",
      "Epoch 45/50\n",
      "3/3 [==============================] - 0s 7ms/step - loss: 2.2587e-07\n",
      "Epoch 46/50\n",
      "3/3 [==============================] - 0s 7ms/step - loss: 2.0799e-07\n",
      "Epoch 47/50\n",
      "3/3 [==============================] - 0s 10ms/step - loss: 1.9839e-07\n",
      "Epoch 48/50\n",
      "3/3 [==============================] - 0s 7ms/step - loss: 2.0115e-07\n",
      "Epoch 49/50\n",
      "3/3 [==============================] - 0s 7ms/step - loss: 2.0401e-07\n",
      "Epoch 50/50\n",
      "3/3 [==============================] - 0s 7ms/step - loss: 1.9326e-07\n"
     ]
    },
    {
     "data": {
      "text/plain": [
       "<keras.src.callbacks.History at 0x25c392e1420>"
      ]
     },
     "execution_count": 7,
     "metadata": {},
     "output_type": "execute_result"
    }
   ],
   "source": [
    "model = create_model((X.shape[1], X.shape[2]))\n",
    "model.fit(X_train, y_train, epochs=50, batch_size=32, verbose=1)"
   ]
  },
  {
   "cell_type": "code",
   "execution_count": 8,
   "metadata": {},
   "outputs": [
    {
     "name": "stdout",
     "output_type": "stream",
     "text": [
      "12/12 [==============================] - 1s 4ms/step - loss: 0.0613\n",
      "Test Loss: 0.06129630282521248\n"
     ]
    }
   ],
   "source": [
    "loss = model.evaluate(X_test, y_test)\n",
    "print(\"Test Loss:\", loss)"
   ]
  },
  {
   "cell_type": "code",
   "execution_count": 15,
   "metadata": {},
   "outputs": [
    {
     "name": "stdout",
     "output_type": "stream",
     "text": [
      "1/1 [==============================] - 0s 24ms/step\n",
      "[[30.79161]]\n"
     ]
    }
   ],
   "source": [
    "last_sequence = X_test[-1].reshape(1, X_test[-1].shape[0], X_test[-1].shape[1])\n",
    "\n",
    "next_close = model.predict(last_sequence)\n",
    "\n",
    "descaled_next_close = scaler_y.inverse_transform(next_close)\n",
    "\n",
    "print(descaled_next_close)\n",
    "#TODO WHY PREDICTION IS SO OFF?\n"
   ]
  },
  {
   "cell_type": "code",
   "execution_count": null,
   "metadata": {},
   "outputs": [],
   "source": []
  }
 ],
 "metadata": {
  "kernelspec": {
   "display_name": "Python 3",
   "language": "python",
   "name": "python3"
  },
  "language_info": {
   "codemirror_mode": {
    "name": "ipython",
    "version": 3
   },
   "file_extension": ".py",
   "mimetype": "text/x-python",
   "name": "python",
   "nbconvert_exporter": "python",
   "pygments_lexer": "ipython3",
   "version": "3.10.11"
  }
 },
 "nbformat": 4,
 "nbformat_minor": 2
}
