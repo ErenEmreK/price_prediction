{
 "cells": [
  {
   "cell_type": "code",
   "execution_count": 147,
   "metadata": {},
   "outputs": [],
   "source": [
    "\n",
    "from keras.models import Sequential\n",
    "from keras.layers import LSTM, Dense, Dropout, Normalization\n",
    "import os\n",
    "import pandas as pd\n",
    "import numpy as np\n",
    "from predict import preprocess, train_test_split, df_yielder, date_to_int\n",
    "from sklearn.preprocessing import MinMaxScaler, StandardScaler\n",
    "\n",
    "TRAIN_RATIO = 0.8\n",
    "TIMESTEP = 12\n"
   ]
  },
  {
   "cell_type": "code",
   "execution_count": 148,
   "metadata": {},
   "outputs": [],
   "source": [
    "def create_model(input_shape):\n",
    "    \n",
    "    model = Sequential()\n",
    "    model.add(LSTM(units=50, input_shape=input_shape))\n",
    "    model.add(Dense(units=1))\n",
    "    model.compile(optimizer='adam',loss='mean_squared_error')\n",
    "    \n",
    "    return model"
   ]
  },
  {
   "cell_type": "code",
   "execution_count": 165,
   "metadata": {},
   "outputs": [],
   "source": [
    "df = pd.read_csv('data/yf_attributes/AAPL.csv')\n",
    "df['Date'] = [date_to_int(date) for date in df['Date']]\n",
    "\n",
    "X_sc = MinMaxScaler()\n",
    "scaled_X = X_sc.fit_transform(df)\n",
    "\n",
    "targets = df[['Close']]\n",
    "y_sc = MinMaxScaler()\n",
    "scaled_y = y_sc.fit_transform(targets)\n",
    "\n",
    "unscaled_X = df.values.tolist()\n",
    "unscaled_y = targets['Close']"
   ]
  },
  {
   "cell_type": "code",
   "execution_count": 150,
   "metadata": {},
   "outputs": [
    {
     "name": "stdout",
     "output_type": "stream",
     "text": [
      "196.4499969482422\n"
     ]
    }
   ],
   "source": [
    "minimum_y, maximum_y = min(targets['Close']), max(targets['Close'])\n",
    "print(maximum_y)\n",
    "def descale_prediction(predicted_value):\n",
    "    return predicted_value * (maximum_y - minimum_y) + minimum_y"
   ]
  },
  {
   "cell_type": "code",
   "execution_count": 151,
   "metadata": {},
   "outputs": [],
   "source": [
    "def create_sequences(scaled_X, scaled_y, timestep):\n",
    "    X, y = [], []\n",
    "    for i in range(len(scaled_X) - timestep):\n",
    "        X.append(scaled_X[i:i + timestep]) #Using all data between timesteps\n",
    "        y.append(scaled_y[i + timestep]) #Using next timesteps close data as target\n",
    "    \n",
    "    return np.array(X), np.array(y)"
   ]
  },
  {
   "cell_type": "code",
   "execution_count": 169,
   "metadata": {},
   "outputs": [],
   "source": [
    "\n",
    "X, y = create_sequences(scaled_X, scaled_y, TIMESTEP)\n",
    "\n",
    "split_point = int(TRAIN_RATIO * len(X))\n",
    "X_train, y_train = X[:split_point], y[:split_point]\n",
    "X_test, y_test = X[split_point:], y[split_point:]\n"
   ]
  },
  {
   "cell_type": "code",
   "execution_count": 170,
   "metadata": {},
   "outputs": [
    {
     "name": "stdout",
     "output_type": "stream",
     "text": [
      "Epoch 1/100\n",
      "12/12 [==============================] - 2s 7ms/step - loss: 0.0011\n",
      "Epoch 2/100\n",
      "12/12 [==============================] - 0s 6ms/step - loss: 3.6113e-04\n",
      "Epoch 3/100\n",
      "12/12 [==============================] - 0s 7ms/step - loss: 2.0140e-04\n",
      "Epoch 4/100\n",
      "12/12 [==============================] - 0s 6ms/step - loss: 1.1050e-04\n",
      "Epoch 5/100\n",
      "12/12 [==============================] - 0s 6ms/step - loss: 6.8867e-05\n",
      "Epoch 6/100\n",
      "12/12 [==============================] - 0s 7ms/step - loss: 5.5634e-05\n",
      "Epoch 7/100\n",
      "12/12 [==============================] - 0s 6ms/step - loss: 4.9890e-05\n",
      "Epoch 8/100\n",
      "12/12 [==============================] - 0s 7ms/step - loss: 4.8602e-05\n",
      "Epoch 9/100\n",
      "12/12 [==============================] - 0s 7ms/step - loss: 5.0267e-05\n",
      "Epoch 10/100\n",
      "12/12 [==============================] - 0s 6ms/step - loss: 5.3903e-05\n",
      "Epoch 11/100\n",
      "12/12 [==============================] - 0s 7ms/step - loss: 5.6971e-05\n",
      "Epoch 12/100\n",
      "12/12 [==============================] - 0s 7ms/step - loss: 5.9736e-05\n",
      "Epoch 13/100\n",
      "12/12 [==============================] - 0s 9ms/step - loss: 4.1867e-05\n",
      "Epoch 14/100\n",
      "12/12 [==============================] - 0s 6ms/step - loss: 4.8119e-05\n",
      "Epoch 15/100\n",
      "12/12 [==============================] - 0s 7ms/step - loss: 3.8652e-05\n",
      "Epoch 16/100\n",
      "12/12 [==============================] - 0s 7ms/step - loss: 3.7138e-05\n",
      "Epoch 17/100\n",
      "12/12 [==============================] - 0s 6ms/step - loss: 3.8313e-05\n",
      "Epoch 18/100\n",
      "12/12 [==============================] - 0s 7ms/step - loss: 3.8323e-05\n",
      "Epoch 19/100\n",
      "12/12 [==============================] - 0s 6ms/step - loss: 3.4024e-05\n",
      "Epoch 20/100\n",
      "12/12 [==============================] - 0s 6ms/step - loss: 3.8814e-05\n",
      "Epoch 21/100\n",
      "12/12 [==============================] - 0s 6ms/step - loss: 3.4563e-05\n",
      "Epoch 22/100\n",
      "12/12 [==============================] - 0s 6ms/step - loss: 3.6589e-05\n",
      "Epoch 23/100\n",
      "12/12 [==============================] - 0s 6ms/step - loss: 3.3302e-05\n",
      "Epoch 24/100\n",
      "12/12 [==============================] - 0s 6ms/step - loss: 3.4353e-05\n",
      "Epoch 25/100\n",
      "12/12 [==============================] - 0s 6ms/step - loss: 2.8236e-05\n",
      "Epoch 26/100\n",
      "12/12 [==============================] - 0s 6ms/step - loss: 3.1720e-05\n",
      "Epoch 27/100\n",
      "12/12 [==============================] - 0s 6ms/step - loss: 2.6116e-05\n",
      "Epoch 28/100\n",
      "12/12 [==============================] - 0s 6ms/step - loss: 2.9617e-05\n",
      "Epoch 29/100\n",
      "12/12 [==============================] - 0s 6ms/step - loss: 4.4424e-05\n",
      "Epoch 30/100\n",
      "12/12 [==============================] - 0s 6ms/step - loss: 3.2291e-05\n",
      "Epoch 31/100\n",
      "12/12 [==============================] - 0s 6ms/step - loss: 2.5047e-05\n",
      "Epoch 32/100\n",
      "12/12 [==============================] - 0s 7ms/step - loss: 3.1418e-05\n",
      "Epoch 33/100\n",
      "12/12 [==============================] - 0s 7ms/step - loss: 2.4565e-05\n",
      "Epoch 34/100\n",
      "12/12 [==============================] - 0s 6ms/step - loss: 3.1654e-05\n",
      "Epoch 35/100\n",
      "12/12 [==============================] - 0s 7ms/step - loss: 2.7417e-05\n",
      "Epoch 36/100\n",
      "12/12 [==============================] - 0s 7ms/step - loss: 2.5856e-05\n",
      "Epoch 37/100\n",
      "12/12 [==============================] - 0s 8ms/step - loss: 2.2414e-05\n",
      "Epoch 38/100\n",
      "12/12 [==============================] - 0s 7ms/step - loss: 2.2958e-05\n",
      "Epoch 39/100\n",
      "12/12 [==============================] - 0s 7ms/step - loss: 2.1927e-05\n",
      "Epoch 40/100\n",
      "12/12 [==============================] - 0s 8ms/step - loss: 2.7934e-05\n",
      "Epoch 41/100\n",
      "12/12 [==============================] - 0s 7ms/step - loss: 2.5148e-05\n",
      "Epoch 42/100\n",
      "12/12 [==============================] - 0s 7ms/step - loss: 2.0863e-05\n",
      "Epoch 43/100\n",
      "12/12 [==============================] - 0s 7ms/step - loss: 2.1820e-05\n",
      "Epoch 44/100\n",
      "12/12 [==============================] - 0s 6ms/step - loss: 2.2412e-05\n",
      "Epoch 45/100\n",
      "12/12 [==============================] - 0s 5ms/step - loss: 1.9133e-05\n",
      "Epoch 46/100\n",
      "12/12 [==============================] - 0s 6ms/step - loss: 2.2412e-05\n",
      "Epoch 47/100\n",
      "12/12 [==============================] - 0s 6ms/step - loss: 2.3295e-05\n",
      "Epoch 48/100\n",
      "12/12 [==============================] - 0s 7ms/step - loss: 2.2933e-05\n",
      "Epoch 49/100\n",
      "12/12 [==============================] - 0s 7ms/step - loss: 2.1346e-05\n",
      "Epoch 50/100\n",
      "12/12 [==============================] - 0s 7ms/step - loss: 2.2431e-05\n",
      "Epoch 51/100\n",
      "12/12 [==============================] - 0s 7ms/step - loss: 3.0059e-05\n",
      "Epoch 52/100\n",
      "12/12 [==============================] - 0s 6ms/step - loss: 4.4598e-05\n",
      "Epoch 53/100\n",
      "12/12 [==============================] - 0s 6ms/step - loss: 2.7156e-05\n",
      "Epoch 54/100\n",
      "12/12 [==============================] - 0s 6ms/step - loss: 2.2581e-05\n",
      "Epoch 55/100\n",
      "12/12 [==============================] - 0s 7ms/step - loss: 2.4407e-05\n",
      "Epoch 56/100\n",
      "12/12 [==============================] - 0s 7ms/step - loss: 3.6370e-05\n",
      "Epoch 57/100\n",
      "12/12 [==============================] - 0s 6ms/step - loss: 3.3243e-05\n",
      "Epoch 58/100\n",
      "12/12 [==============================] - 0s 6ms/step - loss: 3.1093e-05\n",
      "Epoch 59/100\n",
      "12/12 [==============================] - 0s 6ms/step - loss: 1.9652e-05\n",
      "Epoch 60/100\n",
      "12/12 [==============================] - 0s 6ms/step - loss: 1.9911e-05\n",
      "Epoch 61/100\n",
      "12/12 [==============================] - 0s 6ms/step - loss: 1.8507e-05\n",
      "Epoch 62/100\n",
      "12/12 [==============================] - 0s 6ms/step - loss: 1.7061e-05\n",
      "Epoch 63/100\n",
      "12/12 [==============================] - 0s 7ms/step - loss: 1.7543e-05\n",
      "Epoch 64/100\n",
      "12/12 [==============================] - 0s 6ms/step - loss: 1.7700e-05\n",
      "Epoch 65/100\n",
      "12/12 [==============================] - 0s 8ms/step - loss: 1.7818e-05\n",
      "Epoch 66/100\n",
      "12/12 [==============================] - 0s 5ms/step - loss: 1.7245e-05\n",
      "Epoch 67/100\n",
      "12/12 [==============================] - 0s 5ms/step - loss: 1.8013e-05\n",
      "Epoch 68/100\n",
      "12/12 [==============================] - 0s 5ms/step - loss: 1.9461e-05\n",
      "Epoch 69/100\n",
      "12/12 [==============================] - 0s 5ms/step - loss: 2.4350e-05\n",
      "Epoch 70/100\n",
      "12/12 [==============================] - 0s 5ms/step - loss: 2.5583e-05\n",
      "Epoch 71/100\n",
      "12/12 [==============================] - 0s 6ms/step - loss: 1.7114e-05\n",
      "Epoch 72/100\n",
      "12/12 [==============================] - 0s 5ms/step - loss: 2.1390e-05\n",
      "Epoch 73/100\n",
      "12/12 [==============================] - 0s 6ms/step - loss: 1.9470e-05\n",
      "Epoch 74/100\n",
      "12/12 [==============================] - 0s 6ms/step - loss: 2.5909e-05\n",
      "Epoch 75/100\n",
      "12/12 [==============================] - 0s 6ms/step - loss: 2.1916e-05\n",
      "Epoch 76/100\n",
      "12/12 [==============================] - 0s 6ms/step - loss: 1.7981e-05\n",
      "Epoch 77/100\n",
      "12/12 [==============================] - 0s 6ms/step - loss: 1.8379e-05\n",
      "Epoch 78/100\n",
      "12/12 [==============================] - 0s 7ms/step - loss: 1.9277e-05\n",
      "Epoch 79/100\n",
      "12/12 [==============================] - 0s 7ms/step - loss: 2.2156e-05\n",
      "Epoch 80/100\n",
      "12/12 [==============================] - 0s 6ms/step - loss: 1.9314e-05\n",
      "Epoch 81/100\n",
      "12/12 [==============================] - 0s 7ms/step - loss: 1.8133e-05\n",
      "Epoch 82/100\n",
      "12/12 [==============================] - 0s 5ms/step - loss: 1.9046e-05\n",
      "Epoch 83/100\n",
      "12/12 [==============================] - 0s 5ms/step - loss: 1.9230e-05\n",
      "Epoch 84/100\n",
      "12/12 [==============================] - 0s 5ms/step - loss: 1.8733e-05\n",
      "Epoch 85/100\n",
      "12/12 [==============================] - 0s 5ms/step - loss: 1.7640e-05\n",
      "Epoch 86/100\n",
      "12/12 [==============================] - 0s 5ms/step - loss: 1.6814e-05\n",
      "Epoch 87/100\n",
      "12/12 [==============================] - 0s 5ms/step - loss: 1.6239e-05\n",
      "Epoch 88/100\n",
      "12/12 [==============================] - 0s 6ms/step - loss: 1.7949e-05\n",
      "Epoch 89/100\n",
      "12/12 [==============================] - 0s 5ms/step - loss: 1.9162e-05\n",
      "Epoch 90/100\n",
      "12/12 [==============================] - 0s 5ms/step - loss: 1.7695e-05\n",
      "Epoch 91/100\n",
      "12/12 [==============================] - 0s 6ms/step - loss: 1.8881e-05\n",
      "Epoch 92/100\n",
      "12/12 [==============================] - 0s 5ms/step - loss: 2.0935e-05\n",
      "Epoch 93/100\n",
      "12/12 [==============================] - 0s 5ms/step - loss: 1.6333e-05\n",
      "Epoch 94/100\n",
      "12/12 [==============================] - 0s 5ms/step - loss: 1.9008e-05\n",
      "Epoch 95/100\n",
      "12/12 [==============================] - 0s 6ms/step - loss: 1.9689e-05\n",
      "Epoch 96/100\n",
      "12/12 [==============================] - 0s 6ms/step - loss: 1.8075e-05\n",
      "Epoch 97/100\n",
      "12/12 [==============================] - 0s 7ms/step - loss: 1.7143e-05\n",
      "Epoch 98/100\n",
      "12/12 [==============================] - 0s 6ms/step - loss: 1.6137e-05\n",
      "Epoch 99/100\n",
      "12/12 [==============================] - 0s 6ms/step - loss: 1.5983e-05\n",
      "Epoch 100/100\n",
      "12/12 [==============================] - 0s 5ms/step - loss: 1.8683e-05\n"
     ]
    },
    {
     "data": {
      "text/plain": [
       "<keras.src.callbacks.History at 0x260f27496c0>"
      ]
     },
     "execution_count": 170,
     "metadata": {},
     "output_type": "execute_result"
    }
   ],
   "source": [
    "model = create_model((X_train.shape[1], X_train.shape[2]))\n",
    "model.fit(X_train, y_train, epochs=100, batch_size=32, verbose=1)"
   ]
  },
  {
   "cell_type": "code",
   "execution_count": 171,
   "metadata": {},
   "outputs": [
    {
     "name": "stdout",
     "output_type": "stream",
     "text": [
      "3/3 [==============================] - 0s 4ms/step - loss: 0.0832\n",
      "Test Loss: 0.08320264518260956\n"
     ]
    }
   ],
   "source": [
    "\n",
    "loss = model.evaluate(X_test, y_test)\n",
    "print(\"Test Loss:\", loss)"
   ]
  },
  {
   "cell_type": "code",
   "execution_count": 177,
   "metadata": {},
   "outputs": [
    {
     "name": "stdout",
     "output_type": "stream",
     "text": [
      "1/1 [==============================] - 0s 25ms/step\n",
      "[[78.909294]]\n"
     ]
    }
   ],
   "source": [
    "\n",
    "last_sequence = X_test[-1].reshape(1, X_test[-1].shape[0], X_test[-1].shape[1])\n",
    "\n",
    "scaled_prediction = model.predict(last_sequence)\n",
    "x = y_sc.inverse_transform(scaled_prediction)\n",
    "\n",
    "\n",
    "print(x)\n",
    "\n",
    "\n"
   ]
  },
  {
   "cell_type": "code",
   "execution_count": 22,
   "metadata": {},
   "outputs": [
    {
     "data": {
      "text/plain": [
       "(12, 7)"
      ]
     },
     "execution_count": 22,
     "metadata": {},
     "output_type": "execute_result"
    }
   ],
   "source": [
    "#TODO check stackoverfflow to scale issues"
   ]
  }
 ],
 "metadata": {
  "kernelspec": {
   "display_name": "Python 3",
   "language": "python",
   "name": "python3"
  },
  "language_info": {
   "codemirror_mode": {
    "name": "ipython",
    "version": 3
   },
   "file_extension": ".py",
   "mimetype": "text/x-python",
   "name": "python",
   "nbconvert_exporter": "python",
   "pygments_lexer": "ipython3",
   "version": "3.10.11"
  }
 },
 "nbformat": 4,
 "nbformat_minor": 2
}
