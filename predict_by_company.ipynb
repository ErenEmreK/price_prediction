{
 "cells": [
  {
   "cell_type": "code",
   "execution_count": 1,
   "metadata": {},
   "outputs": [
    {
     "name": "stdout",
     "output_type": "stream",
     "text": [
      "WARNING:tensorflow:From C:\\Users\\vlns\\AppData\\Local\\Packages\\PythonSoftwareFoundation.Python.3.10_qbz5n2kfra8p0\\LocalCache\\local-packages\\Python310\\site-packages\\keras\\src\\losses.py:2976: The name tf.losses.sparse_softmax_cross_entropy is deprecated. Please use tf.compat.v1.losses.sparse_softmax_cross_entropy instead.\n",
      "\n",
      "(470, 7)\n"
     ]
    }
   ],
   "source": [
    "from keras.models import Sequential\n",
    "from keras.layers import LSTM, Dense, Dropout\n",
    "import os\n",
    "import pandas as pd\n",
    "import numpy as np\n",
    "from predict import preprocess, train_test_split, df_yielder\n",
    "\n",
    "TRAIN_RATIO = 0.2\n",
    "TIMESTEP = 12\n"
   ]
  },
  {
   "cell_type": "code",
   "execution_count": 40,
   "metadata": {},
   "outputs": [],
   "source": [
    "def create_model(input_shape):\n",
    "    \n",
    "    model = Sequential()\n",
    "    model.add(LSTM(units=50, input_shape=input_shape))\n",
    "    model.add(Dense(units=1))\n",
    "    model.compile(optimizer='adam',loss='mean_squared_error')\n",
    "    \n",
    "    return model\n",
    "   "
   ]
  },
  {
   "cell_type": "code",
   "execution_count": 41,
   "metadata": {},
   "outputs": [],
   "source": [
    "df = pd.read_csv('data/yf_attributes/AAPL.csv')\n",
    "scaled_df = preprocess(df)"
   ]
  },
  {
   "cell_type": "code",
   "execution_count": 42,
   "metadata": {},
   "outputs": [],
   "source": [
    "def create_sequences(data, timestep):\n",
    "    X, y = [], []\n",
    "    for i in range(len(data) - timestep):\n",
    "        X.append(data[i:i + timestep]) #Using all data between timesteps\n",
    "        y.append(data[i + timestep, 4]) #Using next timesteps close data as target\n",
    "    \n",
    "    return np.array(X), np.array(y)"
   ]
  },
  {
   "cell_type": "code",
   "execution_count": 43,
   "metadata": {},
   "outputs": [],
   "source": [
    "X, y = create_sequences(scaled_df, TIMESTEP)\n",
    "\n",
    "\n",
    "split_point = int(TRAIN_RATIO * len(X))\n",
    "X_train, X_test = X[:split_point], X[split_point:]\n",
    "y_train, y_test = y[:split_point], y[split_point:]\n",
    "\n",
    "#Shape of X will be (data_length, timesteps, num_features)\n",
    "input_shape = X.shape[1], X.shape[2]"
   ]
  },
  {
   "cell_type": "code",
   "execution_count": 46,
   "metadata": {},
   "outputs": [
    {
     "name": "stdout",
     "output_type": "stream",
     "text": [
      "Epoch 1/10\n",
      "3/3 [==============================] - 2s 10ms/step - loss: 2.7937e-04\n",
      "Epoch 2/10\n",
      "3/3 [==============================] - 0s 10ms/step - loss: 1.6633e-04\n",
      "Epoch 3/10\n",
      "3/3 [==============================] - 0s 10ms/step - loss: 8.9931e-05\n",
      "Epoch 4/10\n",
      "3/3 [==============================] - 0s 11ms/step - loss: 2.5722e-05\n",
      "Epoch 5/10\n",
      "3/3 [==============================] - 0s 10ms/step - loss: 7.8913e-05\n",
      "Epoch 6/10\n",
      "3/3 [==============================] - 0s 9ms/step - loss: 2.9939e-05\n",
      "Epoch 7/10\n",
      "3/3 [==============================] - 0s 8ms/step - loss: 1.6267e-05\n",
      "Epoch 8/10\n",
      "3/3 [==============================] - 0s 8ms/step - loss: 3.4650e-05\n",
      "Epoch 9/10\n",
      "3/3 [==============================] - 0s 7ms/step - loss: 1.5903e-05\n",
      "Epoch 10/10\n",
      "3/3 [==============================] - 0s 8ms/step - loss: 1.0500e-05\n"
     ]
    },
    {
     "data": {
      "text/plain": [
       "<keras.src.callbacks.History at 0x224ab2b3160>"
      ]
     },
     "execution_count": 46,
     "metadata": {},
     "output_type": "execute_result"
    }
   ],
   "source": [
    "model = create_model(input_shape)\n",
    "model.fit(X_train, y_train, epochs=10, batch_size=32, verbose=1)"
   ]
  },
  {
   "cell_type": "code",
   "execution_count": 47,
   "metadata": {},
   "outputs": [
    {
     "name": "stdout",
     "output_type": "stream",
     "text": [
      "12/12 [==============================] - 0s 4ms/step - loss: 0.0346\n",
      "Test Loss: 0.03458511456847191\n",
      "12/12 [==============================] - 0s 4ms/step\n"
     ]
    }
   ],
   "source": [
    "loss = model.evaluate(X_test, y_test)\n",
    "print(\"Test Loss:\", loss)\n",
    "\n",
    "# Step 8: Make Predictions\n",
    "predictions = model.predict(X_test)\n"
   ]
  },
  {
   "cell_type": "code",
   "execution_count": null,
   "metadata": {},
   "outputs": [],
   "source": [
    "#TODO GET FUTURE\n"
   ]
  }
 ],
 "metadata": {
  "kernelspec": {
   "display_name": "Python 3",
   "language": "python",
   "name": "python3"
  },
  "language_info": {
   "codemirror_mode": {
    "name": "ipython",
    "version": 3
   },
   "file_extension": ".py",
   "mimetype": "text/x-python",
   "name": "python",
   "nbconvert_exporter": "python",
   "pygments_lexer": "ipython3",
   "version": "3.10.11"
  }
 },
 "nbformat": 4,
 "nbformat_minor": 2
}
