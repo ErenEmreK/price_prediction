{
 "cells": [
  {
   "cell_type": "code",
   "execution_count": 40,
   "metadata": {},
   "outputs": [],
   "source": [
    "import tensorflow as tf\n",
    "from tensorflow import keras\n",
    "import os\n",
    "import pandas as pd\n",
    "from datetime import datetime\n"
   ]
  },
  {
   "cell_type": "code",
   "execution_count": null,
   "metadata": {},
   "outputs": [],
   "source": [
    "model = tf.keras.Sequential([\n",
    "    keras.layers.LSTM(50, input_shape=(None, 6)),\n",
    "    keras.layers.Dense(1) #output layer\n",
    "])\n",
    "\n",
    "model.compile(optimizer='adam', loss='mse')"
   ]
  },
  {
   "cell_type": "code",
   "execution_count": 68,
   "metadata": {},
   "outputs": [],
   "source": [
    "def date_to_int(str_date):\n",
    "    #converts 'YYYY-MM-DD' to integer\n",
    "    time_obj = datetime.strptime(str_date, r'%Y-%m-%d')\n",
    "    ordinal = time_obj.toordinal()\n",
    "    return ordinal"
   ]
  },
  {
   "cell_type": "code",
   "execution_count": 64,
   "metadata": {},
   "outputs": [],
   "source": [
    "def df_yielder(folder):\n",
    "    #we use yield method for memory efficiency\n",
    "    for file_name in os.listdir(folder):\n",
    "        if file_name.endswith('.csv'):\n",
    "            file_path = os.path.join(folder, file_name)\n",
    "            df = pd.read_csv(file_path)\n",
    "            \n",
    "            #converting dates to numbers\n",
    "            df['Date'] = [date_to_int(date) for date in df['Date']]\n",
    "            yield df"
   ]
  },
  {
   "cell_type": "code",
   "execution_count": 70,
   "metadata": {},
   "outputs": [
    {
     "name": "stdout",
     "output_type": "stream",
     "text": [
      "724673\n",
      "729206\n",
      "724673\n",
      "735538\n",
      "731794\n",
      "726558\n",
      "724673\n",
      "724673\n",
      "716300\n",
      "724673\n",
      "724673\n",
      "725127\n",
      "731032\n",
      "724673\n",
      "735842\n",
      "733985\n",
      "724673\n",
      "733163\n",
      "724673\n",
      "732220\n",
      "734016\n",
      "731397\n",
      "737241\n",
      "728049\n"
     ]
    }
   ],
   "source": [
    "for df in df_yielder('data/yf_attributes'):\n",
    "    pass"
   ]
  },
  {
   "cell_type": "code",
   "execution_count": 7,
   "metadata": {},
   "outputs": [
    {
     "data": {
      "text/plain": [
       "<generator object df_yielder at 0x0000019808DEF1B0>"
      ]
     },
     "execution_count": 7,
     "metadata": {},
     "output_type": "execute_result"
    }
   ],
   "source": [
    "df_yielder('/data/yf_attributes')\n",
    "#TODO check preprocessing of dates\n",
    "#TODO draw main blueprint"
   ]
  },
  {
   "cell_type": "code",
   "execution_count": 67,
   "metadata": {},
   "outputs": [
    {
     "name": "stdout",
     "output_type": "stream",
     "text": [
      "<class 'str'>\n",
      "732402\n"
     ]
    }
   ],
   "source": []
  }
 ],
 "metadata": {
  "kernelspec": {
   "display_name": "Python 3",
   "language": "python",
   "name": "python3"
  },
  "language_info": {
   "codemirror_mode": {
    "name": "ipython",
    "version": 3
   },
   "file_extension": ".py",
   "mimetype": "text/x-python",
   "name": "python",
   "nbconvert_exporter": "python",
   "pygments_lexer": "ipython3",
   "version": "3.10.11"
  }
 },
 "nbformat": 4,
 "nbformat_minor": 2
}
