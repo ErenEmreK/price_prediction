{
 "cells": [
  {
   "cell_type": "code",
   "execution_count": 8,
   "metadata": {},
   "outputs": [],
   "source": [
    "import tensorflow as tf\n",
    "from tensorflow import keras\n",
    "import os\n",
    "import pandas as pd\n",
    "from datetime import datetime\n",
    "from sklearn.model_selection import train_test_split\n",
    "\n",
    "TEST_RATIO = 0.2\n"
   ]
  },
  {
   "cell_type": "code",
   "execution_count": null,
   "metadata": {},
   "outputs": [],
   "source": [
    "model = tf.keras.Sequential([\n",
    "    keras.layers.LSTM(50, input_shape=(None, 6)),\n",
    "    keras.layers.Dense(1) #output layer\n",
    "])\n",
    "\n",
    "model.compile(optimizer='adam', loss='mse')"
   ]
  },
  {
   "cell_type": "code",
   "execution_count": null,
   "metadata": {},
   "outputs": [],
   "source": [
    "def date_to_int(str_date):\n",
    "    #converts 'YYYY-MM-DD' to integer\n",
    "    time_obj = datetime.strptime(str_date, r'%Y-%m-%d')\n",
    "    ordinal = time_obj.toordinal()\n",
    "    return ordinal"
   ]
  },
  {
   "cell_type": "code",
   "execution_count": null,
   "metadata": {},
   "outputs": [],
   "source": [
    "def df_yielder(folder):\n",
    "    #we use yield method for memory efficiency\n",
    "    for file_name in os.listdir(folder):\n",
    "        if file_name.endswith('.csv'):\n",
    "            file_path = os.path.join(folder, file_name)\n",
    "            df = pd.read_csv(file_path)\n",
    "            \n",
    "            #converting dates to numbers\n",
    "            df['Date'] = [date_to_int(date) for date in df['Date']]\n",
    "            yield df"
   ]
  },
  {
   "cell_type": "code",
   "execution_count": 9,
   "metadata": {},
   "outputs": [],
   "source": [
    "def test_train_split(df):\n",
    "    #we are going to save first %20 as test data\n",
    "    #TODO experiment with reverse splitting\n",
    "    split_point = int(TEST_RATIO * len(df))\n",
    "    \n",
    "    train_data = df.iloc[split_point:]\n",
    "    test_data = df.iloc[:split_point]\n",
    "    \n",
    "    X_train, y_train = train_data.drop(columns=['Close']), train_data['Close']\n",
    "    X_test, y_test = test_data.drop(columns=['Close']), test_data['Close']\n",
    "    \n",
    "    return X_train, y_train, X_test, y_test"
   ]
  },
  {
   "cell_type": "code",
   "execution_count": 14,
   "metadata": {},
   "outputs": [
    {
     "name": "stdout",
     "output_type": "stream",
     "text": [
      "6\n",
      "6\n",
      "6\n",
      "6\n",
      "6\n",
      "6\n",
      "6\n",
      "6\n",
      "6\n",
      "6\n",
      "6\n",
      "6\n",
      "6\n",
      "6\n",
      "6\n",
      "6\n",
      "6\n",
      "6\n",
      "6\n",
      "6\n",
      "6\n",
      "6\n",
      "6\n",
      "6\n"
     ]
    }
   ],
   "source": [
    "for df in df_yielder('data/yf_attributes'):\n",
    "    X_train, y_train, X_test, y_test = test_train_split(df)\n",
    "    #TODO train the model"
   ]
  },
  {
   "cell_type": "code",
   "execution_count": 10,
   "metadata": {},
   "outputs": [
    {
     "data": {
      "text/plain": [
       "<generator object df_yielder at 0x0000014B4AC01230>"
      ]
     },
     "execution_count": 10,
     "metadata": {},
     "output_type": "execute_result"
    }
   ],
   "source": []
  },
  {
   "cell_type": "code",
   "execution_count": null,
   "metadata": {},
   "outputs": [],
   "source": []
  }
 ],
 "metadata": {
  "kernelspec": {
   "display_name": "Python 3",
   "language": "python",
   "name": "python3"
  },
  "language_info": {
   "codemirror_mode": {
    "name": "ipython",
    "version": 3
   },
   "file_extension": ".py",
   "mimetype": "text/x-python",
   "name": "python",
   "nbconvert_exporter": "python",
   "pygments_lexer": "ipython3",
   "version": "3.10.11"
  }
 },
 "nbformat": 4,
 "nbformat_minor": 2
}
