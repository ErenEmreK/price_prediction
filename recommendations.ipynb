{
 "cells": [
  {
   "cell_type": "code",
   "execution_count": 101,
   "metadata": {},
   "outputs": [],
   "source": [
    "import yfinance as yf\n",
    "import numpy as np\n",
    "import pandas as pd\n",
    "from get_data_yf import get_symbols\n",
    "\n",
    "#TODO writes advised company recommendation data to an excel file\n",
    "\n",
    "RECOMMENDATION_WEIGHTS = [2, 1, 0, -1, -2] #weights for strongBuy, buy, hold, sell,\tstrongSell advisors respectively\n",
    "TIMEZONE_WEIGHTS = [4, 3, 2, 1] # weights for 0, -1, -2, -3rd months respectively\n",
    "ADVICE_COUNT = 10 #how many of best scored symbols we want to get data"
   ]
  },
  {
   "cell_type": "code",
   "execution_count": 104,
   "metadata": {},
   "outputs": [
    {
     "data": {
      "text/html": [
       "<div>\n",
       "<style scoped>\n",
       "    .dataframe tbody tr th:only-of-type {\n",
       "        vertical-align: middle;\n",
       "    }\n",
       "\n",
       "    .dataframe tbody tr th {\n",
       "        vertical-align: top;\n",
       "    }\n",
       "\n",
       "    .dataframe thead th {\n",
       "        text-align: right;\n",
       "    }\n",
       "</style>\n",
       "<table border=\"1\" class=\"dataframe\">\n",
       "  <thead>\n",
       "    <tr style=\"text-align: right;\">\n",
       "      <th></th>\n",
       "      <th>strongBuy</th>\n",
       "      <th>buy</th>\n",
       "      <th>hold</th>\n",
       "      <th>sell</th>\n",
       "      <th>strongSell</th>\n",
       "    </tr>\n",
       "  </thead>\n",
       "  <tbody>\n",
       "    <tr>\n",
       "      <th>0</th>\n",
       "      <td>0</td>\n",
       "      <td>0</td>\n",
       "      <td>0</td>\n",
       "      <td>0</td>\n",
       "      <td>0</td>\n",
       "    </tr>\n",
       "    <tr>\n",
       "      <th>1</th>\n",
       "      <td>0</td>\n",
       "      <td>0</td>\n",
       "      <td>0</td>\n",
       "      <td>0</td>\n",
       "      <td>0</td>\n",
       "    </tr>\n",
       "    <tr>\n",
       "      <th>2</th>\n",
       "      <td>0</td>\n",
       "      <td>0</td>\n",
       "      <td>0</td>\n",
       "      <td>0</td>\n",
       "      <td>0</td>\n",
       "    </tr>\n",
       "    <tr>\n",
       "      <th>3</th>\n",
       "      <td>0</td>\n",
       "      <td>0</td>\n",
       "      <td>0</td>\n",
       "      <td>0</td>\n",
       "      <td>0</td>\n",
       "    </tr>\n",
       "  </tbody>\n",
       "</table>\n",
       "</div>"
      ],
      "text/plain": [
       "   strongBuy  buy  hold  sell  strongSell\n",
       "0          0    0     0     0           0\n",
       "1          0    0     0     0           0\n",
       "2          0    0     0     0           0\n",
       "3          0    0     0     0           0"
      ]
     },
     "execution_count": 104,
     "metadata": {},
     "output_type": "execute_result"
    }
   ],
   "source": [
    "symbols = get_symbols()\n",
    "symbol = yf.Ticker('XTLB')\n",
    "recommendations = symbol.recommendations\n",
    "recommendations = recommendations.drop('period', axis='columns')\n",
    "recommendations"
   ]
  },
  {
   "cell_type": "code",
   "execution_count": 98,
   "metadata": {},
   "outputs": [],
   "source": [
    "def create_weigth_kernel(vertical_weights, horizontal_weights):\n",
    "    kernel_values = np.outer(vertical_weights, horizontal_weights)\n",
    "    kernel = pd.DataFrame(kernel_values)\n",
    "    kernel.rename(columns={0:'strongBuy', 1:'buy', 2:'hold', \n",
    "                              3:'sell', 4:'strongSell'}, inplace = True)\n",
    "    \n",
    "    return kernel"
   ]
  },
  {
   "cell_type": "code",
   "execution_count": 107,
   "metadata": {},
   "outputs": [],
   "source": [
    "def recommendation_score(recommendations, weight_kernel):\n",
    "    sum = recommendations.to_numpy().sum()\n",
    "    if sum == 0:\n",
    "        return None\n",
    "    weighted_sum = (weight_kernel * recommendations).to_numpy().sum()\n",
    "    return weighted_sum / sum "
   ]
  },
  {
   "cell_type": "code",
   "execution_count": 99,
   "metadata": {},
   "outputs": [],
   "source": [
    "def evaluate_symbols(symbols, timezone_weights, recommendation_weights):\n",
    "    #\n",
    "    scores = {}\n",
    "    weight_kernel = create_weigth_kernel(timezone_weights, recommendation_weights)\n",
    "    \n",
    "    for symbol in symbols:\n",
    "        recommendations = yf.Ticker(symbol).recommendations\n",
    "        recommendations = recommendations.drop('period', axis='columns')\n",
    "        \n",
    "        score = recommendation_score(recommendations, weight_kernel)\n",
    "        if score:  \n",
    "            scores[symbol] = score\n",
    "        else: \n",
    "            print(f\"No advisors found for {symbol}.\") \n",
    "    return scores  "
   ]
  },
  {
   "cell_type": "code",
   "execution_count": 102,
   "metadata": {},
   "outputs": [
    {
     "name": "stderr",
     "output_type": "stream",
     "text": [
      "C:\\Users\\vlns\\AppData\\Local\\Temp\\ipykernel_20936\\3781186824.py:4: RuntimeWarning: invalid value encountered in scalar divide\n",
      "  return weighted_sum / sum\n",
      "C:\\Users\\vlns\\AppData\\Local\\Temp\\ipykernel_20936\\3781186824.py:4: RuntimeWarning: invalid value encountered in scalar divide\n",
      "  return weighted_sum / sum\n"
     ]
    },
    {
     "name": "stdout",
     "output_type": "stream",
     "text": [
      "{'AAPL': 2.426829268292683, 'MSFT': 2.918781725888325, 'XWEL': 2.5, 'YJ': -2.5, 'YHGJ': nan, 'ZEUS': 1.375, 'XTLB': nan, 'IBM': 0.9647058823529412, 'NFLX': 2.0172413793103448, 'V': 2.9177215189873418, 'CRM': 2.5591397849462365, 'DIS': 1.9606299212598426, 'TSLA': 0.6168831168831169, 'BA': 2.495575221238938, 'AMZN': 3.0651162790697675, 'INTC': 0.6358381502890174, 'BABA': 3.1391752577319587, 'HD': 2.1805555555555554, 'PYPL': 2.094972067039106, 'NKE': 1.9411764705882353, 'XOM': 1.0, 'CSCO': 1.644859813084112, 'MRK': 2.3653846153846154, 'UNH': 3.1067961165048543}\n"
     ]
    }
   ],
   "source": [
    "scores = evaluate_symbols(symbols, ADVICE_COUNT, TIMEZONE_WEIGHTS, RECOMMENDATION_WEIGHTS)\n",
    "print(scores)"
   ]
  }
 ],
 "metadata": {
  "kernelspec": {
   "display_name": "Python 3",
   "language": "python",
   "name": "python3"
  },
  "language_info": {
   "codemirror_mode": {
    "name": "ipython",
    "version": 3
   },
   "file_extension": ".py",
   "mimetype": "text/x-python",
   "name": "python",
   "nbconvert_exporter": "python",
   "pygments_lexer": "ipython3",
   "version": "3.10.11"
  }
 },
 "nbformat": 4,
 "nbformat_minor": 2
}
