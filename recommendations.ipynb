{
 "cells": [
  {
   "cell_type": "code",
   "execution_count": 40,
   "metadata": {},
   "outputs": [],
   "source": [
    "import yfinance as yf\n",
    "import numpy as np\n",
    "import pandas as pd\n",
    "from get_data_yf import get_symbols\n",
    "\n",
    "#TODO writes advised company recommendation data to an excel file\n",
    "\n",
    "RECOMMENDATION_WEIGHTS = [2, 1, 0, -1, -2] #weights for strongBuy, buy, hold, sell,\tstrongSell advisors respectively\n",
    "TIMEZONE_WEIGHTS = [4, 3, 2, 1] # weights for 0, -1, -2, -3rd months respectively\n",
    "ADVICE_COUNT = 50 #how many of best scored symbols we want to get data\n",
    "file_path = 'data/recommendations'"
   ]
  },
  {
   "cell_type": "code",
   "execution_count": null,
   "metadata": {},
   "outputs": [],
   "source": [
    "symbols = get_symbols()\n",
    "symbols.append('FB')\n",
    "symbol = yf.Ticker('Fafsqwffqwwqfa')\n",
    "recommendations = symbol.recommendations\n",
    "#recommendations = recommendations.drop('period', axis='columns')\n",
    "print((recommendations.empty))"
   ]
  },
  {
   "cell_type": "code",
   "execution_count": null,
   "metadata": {},
   "outputs": [],
   "source": [
    "def create_weigth_kernel(vertical_weights, horizontal_weights):\n",
    "    kernel_values = np.outer(vertical_weights, horizontal_weights)\n",
    "    kernel = pd.DataFrame(kernel_values)\n",
    "    kernel.rename(columns={0:'strongBuy', 1:'buy', 2:'hold', \n",
    "                              3:'sell', 4:'strongSell'}, inplace = True)\n",
    "    \n",
    "    return kernel"
   ]
  },
  {
   "cell_type": "code",
   "execution_count": null,
   "metadata": {},
   "outputs": [],
   "source": [
    "def recommendation_score(recommendations, weight_kernel):\n",
    "    #returns score and how many anaylst we have as advisor in total\n",
    "    sum = recommendations.to_numpy().sum()\n",
    "    if sum == 0:\n",
    "        return None, None\n",
    "    weighted_sum = (weight_kernel * recommendations).to_numpy().sum()\n",
    "    return weighted_sum / sum, sum "
   ]
  },
  {
   "cell_type": "code",
   "execution_count": null,
   "metadata": {},
   "outputs": [],
   "source": [
    "def evaluate_symbols(symbols, timezone_weights, recommendation_weights):\n",
    "    #Will return a df that stores scores and advisor count for a symbol\n",
    "    scores = {}\n",
    "    weight_kernel = create_weigth_kernel(timezone_weights, recommendation_weights)\n",
    "    \n",
    "    for symbol in symbols:\n",
    "        recommendations = yf.Ticker(symbol).recommendations\n",
    "        if  recommendations.empty:\n",
    "            print(f\"Couldn't fetch data for {symbol}.\")\n",
    "            continue\n",
    "        \n",
    "        recommendations = recommendations.drop('period', axis='columns')\n",
    "        score, advisor = recommendation_score(recommendations, weight_kernel)\n",
    "        if score:  \n",
    "            scores[symbol] = [score, advisor]\n",
    "        else: \n",
    "            print(f\"No advisors found for {symbol}.\") \n",
    "            \n",
    "    scores_df = pd.DataFrame.from_dict(scores, orient='index', columns=['Scores', 'Advisors'])\n",
    "    scores_df = scores_df.sort_values(by='Scores', ascending=False)\n",
    "    \n",
    "    return scores_df "
   ]
  },
  {
   "cell_type": "code",
   "execution_count": 43,
   "metadata": {},
   "outputs": [
    {
     "name": "stdout",
     "output_type": "stream",
     "text": [
      "No advisors found for YHGJ.\n",
      "No advisors found for XTLB.\n"
     ]
    },
    {
     "name": "stderr",
     "output_type": "stream",
     "text": [
      "404 Client Error: Not Found for url: https://query2.finance.yahoo.com/v10/finance/quoteSummary/FB?modules=recommendationTrend&corsDomain=finance.yahoo.com&formatted=false&symbol=FB&crumb=6PwKi7QcG9i\n"
     ]
    },
    {
     "name": "stdout",
     "output_type": "stream",
     "text": [
      "Couldn't fetch data for FB.\n"
     ]
    },
    {
     "data": {
      "text/html": [
       "<div>\n",
       "<style scoped>\n",
       "    .dataframe tbody tr th:only-of-type {\n",
       "        vertical-align: middle;\n",
       "    }\n",
       "\n",
       "    .dataframe tbody tr th {\n",
       "        vertical-align: top;\n",
       "    }\n",
       "\n",
       "    .dataframe thead th {\n",
       "        text-align: right;\n",
       "    }\n",
       "</style>\n",
       "<table border=\"1\" class=\"dataframe\">\n",
       "  <thead>\n",
       "    <tr style=\"text-align: right;\">\n",
       "      <th></th>\n",
       "      <th>Scores</th>\n",
       "      <th>Advisors</th>\n",
       "    </tr>\n",
       "  </thead>\n",
       "  <tbody>\n",
       "    <tr>\n",
       "      <th>BABA</th>\n",
       "      <td>3.139175</td>\n",
       "      <td>194</td>\n",
       "    </tr>\n",
       "    <tr>\n",
       "      <th>UNH</th>\n",
       "      <td>3.106796</td>\n",
       "      <td>103</td>\n",
       "    </tr>\n",
       "    <tr>\n",
       "      <th>AMZN</th>\n",
       "      <td>3.065116</td>\n",
       "      <td>215</td>\n",
       "    </tr>\n",
       "    <tr>\n",
       "      <th>MSFT</th>\n",
       "      <td>2.918782</td>\n",
       "      <td>197</td>\n",
       "    </tr>\n",
       "    <tr>\n",
       "      <th>V</th>\n",
       "      <td>2.917722</td>\n",
       "      <td>158</td>\n",
       "    </tr>\n",
       "    <tr>\n",
       "      <th>CRM</th>\n",
       "      <td>2.559140</td>\n",
       "      <td>186</td>\n",
       "    </tr>\n",
       "    <tr>\n",
       "      <th>XWEL</th>\n",
       "      <td>2.500000</td>\n",
       "      <td>2</td>\n",
       "    </tr>\n",
       "    <tr>\n",
       "      <th>BA</th>\n",
       "      <td>2.495575</td>\n",
       "      <td>113</td>\n",
       "    </tr>\n",
       "    <tr>\n",
       "      <th>AAPL</th>\n",
       "      <td>2.426829</td>\n",
       "      <td>164</td>\n",
       "    </tr>\n",
       "    <tr>\n",
       "      <th>MRK</th>\n",
       "      <td>2.365385</td>\n",
       "      <td>104</td>\n",
       "    </tr>\n",
       "    <tr>\n",
       "      <th>HD</th>\n",
       "      <td>2.180556</td>\n",
       "      <td>144</td>\n",
       "    </tr>\n",
       "    <tr>\n",
       "      <th>PYPL</th>\n",
       "      <td>2.094972</td>\n",
       "      <td>179</td>\n",
       "    </tr>\n",
       "    <tr>\n",
       "      <th>NFLX</th>\n",
       "      <td>2.017241</td>\n",
       "      <td>174</td>\n",
       "    </tr>\n",
       "    <tr>\n",
       "      <th>DIS</th>\n",
       "      <td>1.960630</td>\n",
       "      <td>127</td>\n",
       "    </tr>\n",
       "    <tr>\n",
       "      <th>NKE</th>\n",
       "      <td>1.941176</td>\n",
       "      <td>153</td>\n",
       "    </tr>\n",
       "  </tbody>\n",
       "</table>\n",
       "</div>"
      ],
      "text/plain": [
       "        Scores  Advisors\n",
       "BABA  3.139175       194\n",
       "UNH   3.106796       103\n",
       "AMZN  3.065116       215\n",
       "MSFT  2.918782       197\n",
       "V     2.917722       158\n",
       "CRM   2.559140       186\n",
       "XWEL  2.500000         2\n",
       "BA    2.495575       113\n",
       "AAPL  2.426829       164\n",
       "MRK   2.365385       104\n",
       "HD    2.180556       144\n",
       "PYPL  2.094972       179\n",
       "NFLX  2.017241       174\n",
       "DIS   1.960630       127\n",
       "NKE   1.941176       153"
      ]
     },
     "execution_count": 43,
     "metadata": {},
     "output_type": "execute_result"
    }
   ],
   "source": [
    "scores = evaluate_symbols(symbols, TIMEZONE_WEIGHTS, RECOMMENDATION_WEIGHTS)\n",
    "scores.head(15)"
   ]
  },
  {
   "cell_type": "code",
   "execution_count": null,
   "metadata": {},
   "outputs": [],
   "source": [
    "def write_recommendations(scores, file_path, advice_count):\n",
    "    \n",
    "    \n",
    "    "
   ]
  }
 ],
 "metadata": {
  "kernelspec": {
   "display_name": "Python 3",
   "language": "python",
   "name": "python3"
  },
  "language_info": {
   "codemirror_mode": {
    "name": "ipython",
    "version": 3
   },
   "file_extension": ".py",
   "mimetype": "text/x-python",
   "name": "python",
   "nbconvert_exporter": "python",
   "pygments_lexer": "ipython3",
   "version": "3.10.11"
  }
 },
 "nbformat": 4,
 "nbformat_minor": 2
}
