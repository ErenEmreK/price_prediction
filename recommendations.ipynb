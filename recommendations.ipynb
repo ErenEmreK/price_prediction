{
 "cells": [
  {
   "cell_type": "code",
   "execution_count": null,
   "metadata": {},
   "outputs": [],
   "source": [
    "import yfinance as yf\n",
    "from get_data_yf import get_symbols\n",
    "import numpy as np\n",
    "import pandas as pd\n",
    "\n",
    "#TODO writes advised company recommendation data to an excel file\n",
    "\n",
    "RECOMMENDATION_WEIGHTS = [2, 1, 0, -1, -2] #weights for strongBuy, buy, hold, sell,\tstrongSell advisors respectively\n",
    "TIMEZONE_WEIGHTS = [4, 3, 2, 1] # weights for 0, -1, -2, -3rd months respectively\n",
    "ADVICE_COUNT = 10 #how many of best scored symbols we want to get data"
   ]
  },
  {
   "cell_type": "code",
   "execution_count": 93,
   "metadata": {},
   "outputs": [],
   "source": [
    "symbols = get_symbols()\n",
    "symbol = yf.Ticker('TSLA')\n",
    "recommendations = symbol.recommendations\n",
    "recommendations = recommendations.drop('period', axis='columns')"
   ]
  },
  {
   "cell_type": "code",
   "execution_count": null,
   "metadata": {},
   "outputs": [],
   "source": [
    "def create_weigth_kernel(vertical_weights, horizontal_weights):\n",
    "    kernel_values = np.outer(vertical_weights, horizontal_weights)\n",
    "    kernel = pd.DataFrame(kernel_values)\n",
    "    kernel.rename(columns={0:'strongBuy', 1:'buy', 2:'hold', \n",
    "                              3:'sell', 4:'strongSell'}, inplace = True)\n",
    "    \n",
    "    return kernel\n",
    "\n",
    "weight_kernel = create_weigth_kernel(TIMEZONE_WEIGHTS, RECOMMENDATION_WEIGHTS)"
   ]
  },
  {
   "cell_type": "code",
   "execution_count": 95,
   "metadata": {},
   "outputs": [
    {
     "name": "stdout",
     "output_type": "stream",
     "text": [
      "0.6168831168831169\n"
     ]
    },
    {
     "data": {
      "text/html": [
       "<div>\n",
       "<style scoped>\n",
       "    .dataframe tbody tr th:only-of-type {\n",
       "        vertical-align: middle;\n",
       "    }\n",
       "\n",
       "    .dataframe tbody tr th {\n",
       "        vertical-align: top;\n",
       "    }\n",
       "\n",
       "    .dataframe thead th {\n",
       "        text-align: right;\n",
       "    }\n",
       "</style>\n",
       "<table border=\"1\" class=\"dataframe\">\n",
       "  <thead>\n",
       "    <tr style=\"text-align: right;\">\n",
       "      <th></th>\n",
       "      <th>strongBuy</th>\n",
       "      <th>buy</th>\n",
       "      <th>hold</th>\n",
       "      <th>sell</th>\n",
       "      <th>strongSell</th>\n",
       "    </tr>\n",
       "  </thead>\n",
       "  <tbody>\n",
       "    <tr>\n",
       "      <th>0</th>\n",
       "      <td>4</td>\n",
       "      <td>4</td>\n",
       "      <td>8</td>\n",
       "      <td>6</td>\n",
       "      <td>1</td>\n",
       "    </tr>\n",
       "    <tr>\n",
       "      <th>1</th>\n",
       "      <td>5</td>\n",
       "      <td>12</td>\n",
       "      <td>19</td>\n",
       "      <td>4</td>\n",
       "      <td>4</td>\n",
       "    </tr>\n",
       "    <tr>\n",
       "      <th>2</th>\n",
       "      <td>5</td>\n",
       "      <td>12</td>\n",
       "      <td>20</td>\n",
       "      <td>4</td>\n",
       "      <td>4</td>\n",
       "    </tr>\n",
       "    <tr>\n",
       "      <th>3</th>\n",
       "      <td>10</td>\n",
       "      <td>16</td>\n",
       "      <td>11</td>\n",
       "      <td>3</td>\n",
       "      <td>2</td>\n",
       "    </tr>\n",
       "  </tbody>\n",
       "</table>\n",
       "</div>"
      ],
      "text/plain": [
       "   strongBuy  buy  hold  sell  strongSell\n",
       "0          4    4     8     6           1\n",
       "1          5   12    19     4           4\n",
       "2          5   12    20     4           4\n",
       "3         10   16    11     3           2"
      ]
     },
     "execution_count": 95,
     "metadata": {},
     "output_type": "execute_result"
    }
   ],
   "source": [
    "def recommendation_score(recommendations, weight_kernel):\n",
    "    sum = recommendations.to_numpy().sum()\n",
    "    weighted_sum = (weight_kernel * recommendations).to_numpy().sum()\n",
    "    return weighted_sum / sum\n",
    "    \n",
    "score = recommendation_score(recommendations, weight_kernel)"
   ]
  }
 ],
 "metadata": {
  "kernelspec": {
   "display_name": "Python 3",
   "language": "python",
   "name": "python3"
  },
  "language_info": {
   "codemirror_mode": {
    "name": "ipython",
    "version": 3
   },
   "file_extension": ".py",
   "mimetype": "text/x-python",
   "name": "python",
   "nbconvert_exporter": "python",
   "pygments_lexer": "ipython3",
   "version": "3.10.11"
  }
 },
 "nbformat": 4,
 "nbformat_minor": 2
}
