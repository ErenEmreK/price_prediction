{
 "cells": [
  {
   "cell_type": "code",
   "execution_count": 45,
   "metadata": {},
   "outputs": [],
   "source": [
    "import yfinance as yf\n",
    "import numpy as np\n",
    "import pandas as pd\n",
    "from get_data_yf import get_symbols\n",
    "\n",
    "#TODO writes advised company recommendation data to an excel file\n",
    "\n",
    "RECOMMENDATION_WEIGHTS = [2, 1, 0, -1, -2] #weights for strongBuy, buy, hold, sell,\tstrongSell advisors respectively\n",
    "TIMEZONE_WEIGHTS = [4, 3, 2, 1] # weights for 0, -1, -2, -3rd months respectively\n",
    "ADVICE_COUNT = 50 #how many of best scored symbols we want to get data\n",
    "folder = 'data/recommendations'\n",
    "score_filename = 'scores.xlsx'\n",
    "recommendations_filename = 'recommendations.xlsx'"
   ]
  },
  {
   "cell_type": "code",
   "execution_count": null,
   "metadata": {},
   "outputs": [],
   "source": [
    "def create_weigth_kernel(vertical_weights, horizontal_weights):\n",
    "    kernel_values = np.outer(vertical_weights, horizontal_weights)\n",
    "    kernel = pd.DataFrame(kernel_values)\n",
    "    kernel.rename(columns={0:'strongBuy', 1:'buy', 2:'hold', \n",
    "                              3:'sell', 4:'strongSell'}, inplace = True)\n",
    "    \n",
    "    return kernel"
   ]
  },
  {
   "cell_type": "code",
   "execution_count": null,
   "metadata": {},
   "outputs": [],
   "source": [
    "def recommendation_score(recommendations, weight_kernel):\n",
    "    #returns score and how many anaylst we have as advisor in total\n",
    "    sum = recommendations.to_numpy().sum()\n",
    "    if sum == 0:\n",
    "        return None, None\n",
    "    weighted_sum = (weight_kernel * recommendations).to_numpy().sum()\n",
    "    return weighted_sum / sum, sum "
   ]
  },
  {
   "cell_type": "code",
   "execution_count": null,
   "metadata": {},
   "outputs": [],
   "source": [
    "def evaluate_symbols(symbols, timezone_weights, recommendation_weights):\n",
    "    #Will return a df that stores scores and advisor count for a symbol\n",
    "    scores = {}\n",
    "    weight_kernel = create_weigth_kernel(timezone_weights, recommendation_weights)\n",
    "    \n",
    "    for symbol in symbols:\n",
    "        recommendations = yf.Ticker(symbol).recommendations\n",
    "        if  recommendations.empty:\n",
    "            print(f\"Couldn't fetch data for {symbol}.\")\n",
    "            continue\n",
    "        \n",
    "        recommendations = recommendations.drop('period', axis='columns')\n",
    "        score, advisor = recommendation_score(recommendations, weight_kernel)\n",
    "        if score:  \n",
    "            scores[symbol] = [score, advisor]\n",
    "        else: \n",
    "            print(f\"No advisors found for {symbol}.\") \n",
    "            \n",
    "    scores_df = pd.DataFrame.from_dict(scores, orient='index', columns=['Scores', 'Advisors'])\n",
    "    scores_df = scores_df.sort_values(by='Scores', ascending=False)\n",
    "    \n",
    "    return scores_df "
   ]
  },
  {
   "cell_type": "code",
   "execution_count": null,
   "metadata": {},
   "outputs": [],
   "source": [
    "def write_recommendations(scores, folder, score_filename, recommendations_filename, advice_count=10):\n",
    "    with pd.ExcelWriter(f'{folder}/{score_filename}', engine='xlsxwriter') as writer:\n",
    "        scores.to_excel(writer)\n",
    "        print(\"Score file saved.\")\n",
    "        \n",
    "    wanted_symbols = scores.head(advice_count).index.tolist()\n",
    "    with pd.ExcelWriter(f'{folder}/{recommendations_filename}', engine='xlsxwriter') as writer:\n",
    "        starting_row = 0\n",
    "        for symbol in wanted_symbols:\n",
    "            recommendation = yf.Ticker(symbol).recommendations\n",
    "            if not recommendation.empty:\n",
    "                recommendation.to_excel(writer, startrow=starting_row)\n",
    "                writer.sheets['Sheet1'].write(starting_row, 0, symbol)\n",
    "                starting_row += len(recommendation) + 3\n",
    "            else: \n",
    "                print(f\"Couldn't write the recommendations for {symbol}.\")\n",
    "        print(\"Recommendation file saved.\")"
   ]
  },
  {
   "cell_type": "code",
   "execution_count": 43,
   "metadata": {},
   "outputs": [],
   "source": [
    "def main():\n",
    "    symbols = get_symbols()\n",
    "    scores = evaluate_symbols(symbols, TIMEZONE_WEIGHTS, RECOMMENDATION_WEIGHTS)\n",
    "    write_recommendations(scores, folder, score_filename, recommendations_filename, ADVICE_COUNT)\n",
    "    "
   ]
  },
  {
   "cell_type": "code",
   "execution_count": 46,
   "metadata": {},
   "outputs": [
    {
     "name": "stdout",
     "output_type": "stream",
     "text": [
      "No advisors found for YHGJ.\n",
      "No advisors found for XTLB.\n"
     ]
    },
    {
     "name": "stderr",
     "output_type": "stream",
     "text": [
      "404 Client Error: Not Found for url: https://query2.finance.yahoo.com/v10/finance/quoteSummary/FBINTC?modules=recommendationTrend&corsDomain=finance.yahoo.com&formatted=false&symbol=FBINTC&crumb=6PwKi7QcG9i\n"
     ]
    },
    {
     "name": "stdout",
     "output_type": "stream",
     "text": [
      "Couldn't fetch data for FBINTC.\n",
      "Score file saved.\n",
      "Recommendation file saved.\n"
     ]
    }
   ],
   "source": [
    "if __name__ == '__main__':\n",
    "    main()"
   ]
  }
 ],
 "metadata": {
  "kernelspec": {
   "display_name": "Python 3",
   "language": "python",
   "name": "python3"
  },
  "language_info": {
   "codemirror_mode": {
    "name": "ipython",
    "version": 3
   },
   "file_extension": ".py",
   "mimetype": "text/x-python",
   "name": "python",
   "nbconvert_exporter": "python",
   "pygments_lexer": "ipython3",
   "version": "3.10.11"
  }
 },
 "nbformat": 4,
 "nbformat_minor": 2
}
