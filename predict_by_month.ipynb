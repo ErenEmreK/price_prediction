{
 "cells": [
  {
   "cell_type": "code",
   "execution_count": null,
   "metadata": {},
   "outputs": [],
   "source": [
    "#Though it works as expected, its loss makes it unviable for forecasting\n",
    "#usage, trying to optimize...\n",
    "#TODO \n",
    "\n",
    "from keras.models import Sequential\n",
    "from keras.layers import LSTM, Dense, Dropout\n",
    "from keras.optimizers import Adam\n",
    "import pandas as pd\n",
    "from predict import date_to_int, train_test_split, create_sequences\n",
    "from sklearn.preprocessing import MinMaxScaler\n",
    "\n",
    "TRAIN_RATIO = 0.8\n",
    "TIMESTEP = 12\n"
   ]
  },
  {
   "cell_type": "code",
   "execution_count": null,
   "metadata": {},
   "outputs": [],
   "source": [
    "df = pd.read_csv('data/yf_monthly/AAPL.csv')\n",
    "df['Date'] = [date_to_int(date) for date in df['Date']]\n",
    "\n",
    "X_sc = MinMaxScaler()\n",
    "scaled_X = X_sc.fit_transform(df)\n",
    "\n",
    "y_sc = MinMaxScaler()\n",
    "scaled_y = y_sc.fit_transform(df[['Close']])"
   ]
  },
  {
   "cell_type": "code",
   "execution_count": null,
   "metadata": {},
   "outputs": [],
   "source": [
    "X, y = create_sequences(scaled_X, scaled_y, TIMESTEP)\n",
    "X_train, y_train, X_test, y_test = train_test_split(X, y, TRAIN_RATIO)"
   ]
  },
  {
   "cell_type": "code",
   "execution_count": null,
   "metadata": {},
   "outputs": [],
   "source": [
    "def create_model(input_shape):\n",
    "    \n",
    "    model = Sequential()\n",
    "    model.add(LSTM(units=50, input_shape=input_shape, return_sequences=False))\n",
    "    model.add(Dense(units=1))\n",
    "    model.compile(optimizer=Adam(learning_rate=0.001),loss='mean_squared_error')\n",
    "        \n",
    "    return model"
   ]
  },
  {
   "cell_type": "code",
   "execution_count": null,
   "metadata": {},
   "outputs": [],
   "source": [
    "model = create_model((X_train.shape[1], X_train.shape[2]))\n",
    "model.fit(X_train, y_train, epochs=20, batch_size=32)"
   ]
  },
  {
   "cell_type": "code",
   "execution_count": null,
   "metadata": {},
   "outputs": [],
   "source": [
    "loss = model.evaluate(X_test, y_test)\n",
    "print(\"Test Loss:\", loss)"
   ]
  },
  {
   "cell_type": "code",
   "execution_count": null,
   "metadata": {},
   "outputs": [],
   "source": [
    "#Testing purposes\n",
    "last_sequence = X_test[-1].reshape(1, X_test[-1].shape[0], X_test[-1].shape[1])\n",
    "\n",
    "scaled_prediction = model.predict(last_sequence)\n",
    "\n",
    "prediction = y_sc.inverse_transform(scaled_prediction)\n",
    "\n",
    "last_y = y_sc.inverse_transform([y_test[-1]])\n",
    "print(last_y, prediction)\n",
    "\n",
    "\n"
   ]
  }
 ],
 "metadata": {
  "kernelspec": {
   "display_name": "Python 3",
   "language": "python",
   "name": "python3"
  },
  "language_info": {
   "codemirror_mode": {
    "name": "ipython",
    "version": 3
   },
   "file_extension": ".py",
   "mimetype": "text/x-python",
   "name": "python",
   "nbconvert_exporter": "python",
   "pygments_lexer": "ipython3",
   "version": "3.10.11"
  }
 },
 "nbformat": 4,
 "nbformat_minor": 2
}
