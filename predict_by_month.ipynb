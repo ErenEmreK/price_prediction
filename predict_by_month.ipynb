{
 "cells": [
  {
   "cell_type": "code",
   "execution_count": 163,
   "metadata": {},
   "outputs": [],
   "source": [
    "#Though it works as expected, its loss makes it unviable for forecasting\n",
    "#usage, trying to optimize...\n",
    "#TODO \n",
    "\n",
    "from keras.models import Sequential\n",
    "from keras.layers import LSTM, Dense, Dropout\n",
    "from keras.optimizers import Adam\n",
    "from keras.regularizers import l2\n",
    "import pandas as pd\n",
    "import numpy as np\n",
    "from predict import date_to_int\n",
    "from sklearn.preprocessing import MinMaxScaler\n",
    "\n",
    "TRAIN_RATIO = 0.8\n",
    "TIMESTEP = 12\n"
   ]
  },
  {
   "cell_type": "code",
   "execution_count": 167,
   "metadata": {},
   "outputs": [],
   "source": [
    "def create_model(input_shape):\n",
    "    \n",
    "    model = Sequential()\n",
    "    model.add(LSTM(units=50, input_shape=input_shape, return_sequences=False))\n",
    "    model.add(Dense(units=1))\n",
    "    model.compile(optimizer=Adam(learning_rate=0.001),loss='mean_squared_error')\n",
    "        \n",
    "    return model"
   ]
  },
  {
   "cell_type": "code",
   "execution_count": 1,
   "metadata": {},
   "outputs": [
    {
     "ename": "NameError",
     "evalue": "name 'pd' is not defined",
     "output_type": "error",
     "traceback": [
      "\u001b[1;31m---------------------------------------------------------------------------\u001b[0m",
      "\u001b[1;31mNameError\u001b[0m                                 Traceback (most recent call last)",
      "Cell \u001b[1;32mIn[1], line 1\u001b[0m\n\u001b[1;32m----> 1\u001b[0m df \u001b[38;5;241m=\u001b[39m \u001b[43mpd\u001b[49m\u001b[38;5;241m.\u001b[39mread_csv(\u001b[38;5;124m'\u001b[39m\u001b[38;5;124mdata/yf_monthly/AAPL.csv\u001b[39m\u001b[38;5;124m'\u001b[39m)\n\u001b[0;32m      2\u001b[0m df[\u001b[38;5;124m'\u001b[39m\u001b[38;5;124mDate\u001b[39m\u001b[38;5;124m'\u001b[39m] \u001b[38;5;241m=\u001b[39m [date_to_int(date) \u001b[38;5;28;01mfor\u001b[39;00m date \u001b[38;5;129;01min\u001b[39;00m df[\u001b[38;5;124m'\u001b[39m\u001b[38;5;124mDate\u001b[39m\u001b[38;5;124m'\u001b[39m]]\n\u001b[0;32m      4\u001b[0m X_sc \u001b[38;5;241m=\u001b[39m MinMaxScaler()\n",
      "\u001b[1;31mNameError\u001b[0m: name 'pd' is not defined"
     ]
    }
   ],
   "source": [
    "df = pd.read_csv('data/yf_monthly/AAPL.csv')\n",
    "df['Date'] = [date_to_int(date) for date in df['Date']]\n",
    "\n",
    "X_sc = MinMaxScaler()\n",
    "scaled_X = X_sc.fit_transform(df)\n",
    "\n",
    "y_sc = MinMaxScaler()\n",
    "scaled_y = y_sc.fit_transform(df[['Close']])"
   ]
  },
  {
   "cell_type": "code",
   "execution_count": 169,
   "metadata": {},
   "outputs": [],
   "source": [
    "def create_sequences(scaled_X, scaled_y, timestep):\n",
    "    X, y = [], []\n",
    "    for i in range(len(scaled_X) - timestep):\n",
    "        X.append(scaled_X[i:i + timestep]) #Using all data between timesteps\n",
    "        y.append(scaled_y[i + timestep]) #Using next timesteps close data as target\n",
    "    \n",
    "    return np.array(X), np.array(y)"
   ]
  },
  {
   "cell_type": "code",
   "execution_count": 170,
   "metadata": {},
   "outputs": [],
   "source": [
    "\n",
    "X, y = create_sequences(scaled_X, scaled_y, TIMESTEP)\n",
    "\n",
    "split_point = int(TRAIN_RATIO * len(X))\n",
    "X_train, y_train = X[:split_point], y[:split_point]\n",
    "X_test, y_test = X[split_point:], y[split_point:]\n",
    "\n"
   ]
  },
  {
   "cell_type": "code",
   "execution_count": 171,
   "metadata": {},
   "outputs": [
    {
     "name": "stdout",
     "output_type": "stream",
     "text": [
      "Epoch 1/20\n",
      "12/12 [==============================] - 2s 8ms/step - loss: 7.3127e-04\n",
      "Epoch 2/20\n",
      "12/12 [==============================] - 0s 7ms/step - loss: 2.2222e-04\n",
      "Epoch 3/20\n",
      "12/12 [==============================] - 0s 8ms/step - loss: 1.0938e-04\n",
      "Epoch 4/20\n",
      "12/12 [==============================] - 0s 7ms/step - loss: 7.8815e-05\n",
      "Epoch 5/20\n",
      "12/12 [==============================] - 0s 7ms/step - loss: 6.8249e-05\n",
      "Epoch 6/20\n",
      "12/12 [==============================] - 0s 8ms/step - loss: 6.5894e-05\n",
      "Epoch 7/20\n",
      "12/12 [==============================] - 0s 7ms/step - loss: 5.5930e-05\n",
      "Epoch 8/20\n",
      "12/12 [==============================] - 0s 7ms/step - loss: 6.9053e-05\n",
      "Epoch 9/20\n",
      "12/12 [==============================] - 0s 7ms/step - loss: 8.0188e-05\n",
      "Epoch 10/20\n",
      "12/12 [==============================] - 0s 7ms/step - loss: 5.8745e-05\n",
      "Epoch 11/20\n",
      "12/12 [==============================] - 0s 8ms/step - loss: 5.8811e-05\n",
      "Epoch 12/20\n",
      "12/12 [==============================] - 0s 7ms/step - loss: 5.8679e-05\n",
      "Epoch 13/20\n",
      "12/12 [==============================] - 0s 7ms/step - loss: 5.1091e-05\n",
      "Epoch 14/20\n",
      "12/12 [==============================] - 0s 7ms/step - loss: 4.1987e-05\n",
      "Epoch 15/20\n",
      "12/12 [==============================] - 0s 7ms/step - loss: 3.8600e-05\n",
      "Epoch 16/20\n",
      "12/12 [==============================] - 0s 7ms/step - loss: 4.4409e-05\n",
      "Epoch 17/20\n",
      "12/12 [==============================] - 0s 8ms/step - loss: 5.1951e-05\n",
      "Epoch 18/20\n",
      "12/12 [==============================] - 0s 7ms/step - loss: 3.5863e-05\n",
      "Epoch 19/20\n",
      "12/12 [==============================] - 0s 6ms/step - loss: 3.5895e-05\n",
      "Epoch 20/20\n",
      "12/12 [==============================] - 0s 6ms/step - loss: 3.9052e-05\n"
     ]
    },
    {
     "data": {
      "text/plain": [
       "<keras.src.callbacks.History at 0x26b47439990>"
      ]
     },
     "execution_count": 171,
     "metadata": {},
     "output_type": "execute_result"
    }
   ],
   "source": [
    "model = create_model((X_train.shape[1], X_train.shape[2]))\n",
    "model.fit(X_train, y_train, epochs=20, batch_size=32)"
   ]
  },
  {
   "cell_type": "code",
   "execution_count": 172,
   "metadata": {},
   "outputs": [
    {
     "name": "stdout",
     "output_type": "stream",
     "text": [
      "3/3 [==============================] - 0s 5ms/step - loss: 0.0073\n",
      "Test Loss: 0.007331139408051968\n"
     ]
    }
   ],
   "source": [
    "loss = model.evaluate(X_test, y_test)\n",
    "print(\"Test Loss:\", loss)"
   ]
  },
  {
   "cell_type": "code",
   "execution_count": 176,
   "metadata": {},
   "outputs": [
    {
     "name": "stdout",
     "output_type": "stream",
     "text": [
      "1/1 [==============================] - 0s 39ms/step\n",
      "[[180.75]] [[163.30807]]\n"
     ]
    }
   ],
   "source": [
    "#Testing purposes\n",
    "last_sequence = X_test[-1].reshape(1, X_test[-1].shape[0], X_test[-1].shape[1])\n",
    "\n",
    "scaled_prediction = model.predict(last_sequence)\n",
    "\n",
    "prediction = y_sc.inverse_transform(scaled_prediction)\n",
    "\n",
    "last_y = y_sc.inverse_transform([y_test[-1]])\n",
    "print(last_y, prediction)\n",
    "\n",
    "\n"
   ]
  }
 ],
 "metadata": {
  "kernelspec": {
   "display_name": "Python 3",
   "language": "python",
   "name": "python3"
  },
  "language_info": {
   "codemirror_mode": {
    "name": "ipython",
    "version": 3
   },
   "file_extension": ".py",
   "mimetype": "text/x-python",
   "name": "python",
   "nbconvert_exporter": "python",
   "pygments_lexer": "ipython3",
   "version": "3.10.11"
  }
 },
 "nbformat": 4,
 "nbformat_minor": 2
}
