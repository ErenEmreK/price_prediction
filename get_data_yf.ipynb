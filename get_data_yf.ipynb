{
 "cells": [
  {
   "cell_type": "code",
   "execution_count": null,
   "metadata": {},
   "outputs": [],
   "source": [
    "import yfinance as yf\n",
    "import csv \n",
    "#msft.recommendations can be useful\n",
    "INTERVAL = '1wk'\n",
    "folder_path = 'data/yf_weekly'"
   ]
  },
  {
   "cell_type": "code",
   "execution_count": null,
   "metadata": {},
   "outputs": [],
   "source": [
    "def get_symbols():\n",
    "    #TODO get all available symbols from listing_status.csv\n",
    "    \n",
    "    #we return small set for now\n",
    "    symbols = ['AAPL', 'MSFT', 'XWEL', 'YJ', 'YHGJ', 'ZEUS', 'XTLB', 'IBM',\n",
    "               'NFLX', 'V', 'CRM', 'DIS', 'TSLA', 'BA', 'AMZN', 'CRM',\n",
    "               'INTC', 'BABA', 'HD', 'PYPL', 'NKE', 'XOM', 'CSCO', 'MRK', 'UNH']\n",
    "    return symbols"
   ]
  },
  {
   "cell_type": "code",
   "execution_count": null,
   "metadata": {},
   "outputs": [],
   "source": [
    "def get_data(symbols):\n",
    "    for symbol in symbols:\n",
    "        hist = yf.download(symbol, period='max', interval=INTERVAL)\n",
    "        if not hist.empty:\n",
    "            hist.to_csv(f'{folder_path}/{symbol}.csv')\n",
    "        else:\n",
    "            print(f\"Couldn't find data for {symbol}.\") \n",
    "    print(\"Complete.\")"
   ]
  },
  {
   "cell_type": "code",
   "execution_count": null,
   "metadata": {},
   "outputs": [],
   "source": [
    "def main():\n",
    "    symbols = get_symbols()\n",
    "    get_data(symbols)\n",
    "    \n",
    "if __name__ == '__main__':\n",
    "    main()"
   ]
  },
  {
   "cell_type": "code",
   "execution_count": null,
   "metadata": {},
   "outputs": [],
   "source": []
  }
 ],
 "metadata": {
  "kernelspec": {
   "display_name": "Python 3",
   "language": "python",
   "name": "python3"
  },
  "language_info": {
   "codemirror_mode": {
    "name": "ipython",
    "version": 3
   },
   "file_extension": ".py",
   "mimetype": "text/x-python",
   "name": "python",
   "nbconvert_exporter": "python",
   "pygments_lexer": "ipython3",
   "version": "3.10.11"
  }
 },
 "nbformat": 4,
 "nbformat_minor": 2
}
