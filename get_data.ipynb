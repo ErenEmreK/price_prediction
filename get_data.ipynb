{
 "cells": [
  {
   "cell_type": "code",
   "execution_count": 1,
   "metadata": {},
   "outputs": [],
   "source": [
    "#This file ultimately will get all relevant attributes for possible companies\n",
    "#And will write into a csv file\n",
    "\n",
    "import pandas as pd\n",
    "import requests\n",
    "\n",
    "API_KEY = 'ALPHAVANTAGE_API_KEY'"
   ]
  },
  {
   "cell_type": "code",
   "execution_count": 2,
   "metadata": {},
   "outputs": [],
   "source": [
    "def listing_status_request():\n",
    "    #This fn will get current listing status csv file\n",
    "    #We dont need right now\n",
    "    path = 'data\\listing_status.csv'\n",
    "    \n",
    "    #Can replace \"demo\" with or API key, though not necessary\n",
    "    url = 'https://www.alphavantage.co/query?function=LISTING_STATUS&apikey={}'\n",
    "    response = requests.get(url.format(\"demo\"))\n",
    "      \n",
    "    if response.status_code == 200:\n",
    "        with open(path, 'wb') as f:\n",
    "            f.write(response.content)\n",
    "        print(\"Listing Status CSV file saved successfully.\")\n",
    "    else:\n",
    "        print(\"Failed to fetch data from the URL.\")"
   ]
  },
  {
   "cell_type": "code",
   "execution_count": 3,
   "metadata": {},
   "outputs": [],
   "source": [
    "def get_symbols():\n",
    "    #TODO data arranging, return listed and delisted company symbols as lists\n",
    "    #df = pd.read_csv('data\\listing_status.csv')\n",
    "       \n",
    "    #we are gonna return small sample for now\n",
    "\n",
    "    listed = ['AAPL', 'AAPU', 'AAPX', 'AAPY', 'AAT', 'AAU', 'AAXJ', 'AB', 'ABAT', 'ABBV', 'ABCB', 'ABCL', 'ABCS', 'ABEO', 'ABEQ', 'ABEV', 'ABG', 'ABIO', 'ABL', 'ABLLL', 'ABLLW']\n",
    "    delisted = ['TINY', 'TIOA', 'TIOAU', 'TIOAW', 'TIPD', 'TIPL', 'TIS', 'TISA', 'TIVO', 'TKF', 'TKKSR', 'TKKSU', 'TKMR', 'TKPPY', 'TLC', 'TLCVF', 'TLDH']\n",
    "\n",
    "    return listed, delisted"
   ]
  },
  {
   "cell_type": "code",
   "execution_count": 4,
   "metadata": {},
   "outputs": [],
   "source": [
    "def get_attributes(symbols):\n",
    "    data = []\n",
    "    for symbol in symbols:\n",
    "        url = f'https://www.alphavantage.co/query?function=TIME_SERIES_MONTHLY&symbol={symbol}&apikey={API_KEY}'\n",
    "        response = requests.get(url)\n",
    "        data.append(response.json())\n",
    "        \n",
    "    return data"
   ]
  },
  {
   "cell_type": "code",
   "execution_count": null,
   "metadata": {},
   "outputs": [],
   "source": [
    "def main():\n",
    "    l_symbols, d_symbols = get_symbols()\n",
    "    "
   ]
  }
 ],
 "metadata": {
  "kernelspec": {
   "display_name": "Python 3",
   "language": "python",
   "name": "python3"
  },
  "language_info": {
   "codemirror_mode": {
    "name": "ipython",
    "version": 3
   },
   "file_extension": ".py",
   "mimetype": "text/x-python",
   "name": "python",
   "nbconvert_exporter": "python",
   "pygments_lexer": "ipython3",
   "version": "3.10.11"
  }
 },
 "nbformat": 4,
 "nbformat_minor": 2
}
