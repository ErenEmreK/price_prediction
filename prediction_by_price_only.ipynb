{
 "cells": [
  {
   "cell_type": "code",
   "execution_count": 61,
   "metadata": {},
   "outputs": [],
   "source": [
    "from keras.models import Sequential\n",
    "from keras.layers import LSTM, Dense, Dropout\n",
    "from keras.optimizers import Adam\n",
    "import pandas as pd\n",
    "import numpy as np\n",
    "from predict import date_to_int, train_test_split, create_sequences, advisable\n",
    "from sklearn.preprocessing import MinMaxScaler\n",
    "\n",
    "TRAIN_RATIO = 0.8\n",
    "TIMESTEP = 60\n",
    "FORECAST_STEPS = 10"
   ]
  },
  {
   "cell_type": "code",
   "execution_count": 48,
   "metadata": {},
   "outputs": [],
   "source": [
    "df = pd.read_csv('data/yf_daily/AAPL.csv')\n",
    "df = df[['Close']]\n",
    "X_sc = MinMaxScaler()\n",
    "scaled_X = X_sc.fit_transform(df)\n",
    "\n",
    "y_sc = MinMaxScaler()\n",
    "scaled_y = y_sc.fit_transform(df[['Close']])"
   ]
  },
  {
   "cell_type": "code",
   "execution_count": 49,
   "metadata": {},
   "outputs": [],
   "source": [
    "X, y = create_sequences(scaled_X, scaled_y, TIMESTEP)\n",
    "X_train, y_train, X_test, y_test = train_test_split(X, y, TRAIN_RATIO)"
   ]
  },
  {
   "cell_type": "code",
   "execution_count": 50,
   "metadata": {},
   "outputs": [],
   "source": [
    "def create_model(input_shape):\n",
    "    \n",
    "    model = Sequential()\n",
    "    model.add(LSTM(units=50, input_shape=input_shape, return_sequences=False))\n",
    "    model.add(Dense(units=1))\n",
    "    model.compile(optimizer=Adam(learning_rate=0.005),loss='mean_squared_error')\n",
    "        \n",
    "    return model"
   ]
  },
  {
   "cell_type": "code",
   "execution_count": 51,
   "metadata": {},
   "outputs": [
    {
     "name": "stdout",
     "output_type": "stream",
     "text": [
      "Epoch 1/10\n",
      "271/271 [==============================] - 7s 17ms/step - loss: 3.3870e-05\n",
      "Epoch 2/10\n",
      "271/271 [==============================] - 5s 17ms/step - loss: 1.4478e-06\n",
      "Epoch 3/10\n",
      "271/271 [==============================] - 4s 16ms/step - loss: 1.4423e-06\n",
      "Epoch 4/10\n",
      "271/271 [==============================] - 4s 16ms/step - loss: 1.7286e-06\n",
      "Epoch 5/10\n",
      "271/271 [==============================] - 4s 16ms/step - loss: 1.6165e-06\n",
      "Epoch 6/10\n",
      "271/271 [==============================] - 5s 17ms/step - loss: 1.3737e-06\n",
      "Epoch 7/10\n",
      "271/271 [==============================] - 5s 18ms/step - loss: 1.4595e-06\n",
      "Epoch 8/10\n",
      "271/271 [==============================] - 4s 16ms/step - loss: 1.6262e-06\n",
      "Epoch 9/10\n",
      "271/271 [==============================] - 4s 16ms/step - loss: 1.1562e-06\n",
      "Epoch 10/10\n",
      "271/271 [==============================] - 5s 17ms/step - loss: 1.2115e-06\n"
     ]
    },
    {
     "data": {
      "text/plain": [
       "<keras.src.callbacks.History at 0x26edd053b50>"
      ]
     },
     "execution_count": 51,
     "metadata": {},
     "output_type": "execute_result"
    }
   ],
   "source": [
    "model = create_model((X_train.shape[1], X_train.shape[2]))\n",
    "model.fit(X_train, y_train, epochs=10, batch_size=32)"
   ]
  },
  {
   "cell_type": "code",
   "execution_count": 52,
   "metadata": {},
   "outputs": [
    {
     "name": "stdout",
     "output_type": "stream",
     "text": [
      "68/68 [==============================] - 1s 8ms/step - loss: 1.2145e-04\n",
      "Test Loss: 0.00012144879292463884\n"
     ]
    }
   ],
   "source": [
    "loss = model.evaluate(X_test, y_test)\n",
    "print(\"Test Loss:\", loss)"
   ]
  },
  {
   "cell_type": "code",
   "execution_count": 53,
   "metadata": {},
   "outputs": [
    {
     "name": "stdout",
     "output_type": "stream",
     "text": [
      "68/68 [==============================] - 1s 7ms/step\n"
     ]
    }
   ],
   "source": [
    "scaled_test_predictions = model.predict(X_test)\n",
    "test_predictions = y_sc.inverse_transform(scaled_test_predictions)\n",
    "\n",
    "test_targets = y_sc.inverse_transform(y_test)"
   ]
  },
  {
   "cell_type": "code",
   "execution_count": 64,
   "metadata": {},
   "outputs": [
    {
     "name": "stdout",
     "output_type": "stream",
     "text": [
      "1/1 [==============================] - 0s 29ms/step\n"
     ]
    },
    {
     "data": {
      "text/plain": [
       "array([[0.97510863],\n",
       "       [0.98283359],\n",
       "       [0.99924269],\n",
       "       [1.        ],\n",
       "       [0.9972736 ],\n",
       "       [0.98879132],\n",
       "       [0.99409274],\n",
       "       [0.98343944],\n",
       "       [0.98268205],\n",
       "       [0.97722925],\n",
       "       [0.97445231],\n",
       "       [0.97495716],\n",
       "       [0.97712825],\n",
       "       [0.97182684],\n",
       "       [0.93703956],\n",
       "       [0.93002152],\n",
       "       [0.91820699],\n",
       "       [0.9145212 ],\n",
       "       [0.93663563],\n",
       "       [0.93451508],\n",
       "       [0.9398165 ],\n",
       "       [0.9367871 ],\n",
       "       [0.93845326],\n",
       "       [0.92689119],\n",
       "       [0.92209463],\n",
       "       [0.95213595],\n",
       "       [0.96692935],\n",
       "       [0.97869342],\n",
       "       [0.98520653],\n",
       "       [0.98177328],\n",
       "       [0.98010712],\n",
       "       [0.97127145],\n",
       "       [0.96778766],\n",
       "       [0.94915701],\n",
       "       [0.93077883],\n",
       "       [0.94319929],\n",
       "       [0.93809987],\n",
       "       [0.94733939],\n",
       "       [0.95551874],\n",
       "       [0.95607413],\n",
       "       [0.95057079],\n",
       "       [0.95324673],\n",
       "       [0.94466345],\n",
       "       [0.93401016],\n",
       "       [0.92951659],\n",
       "       [0.92805243],\n",
       "       [0.92022654],\n",
       "       [0.91643982],\n",
       "       [0.92027708],\n",
       "       [0.93062737],\n",
       "       [0.92128685],\n",
       "       [0.91442027],\n",
       "       [0.92184224],\n",
       "       [0.91573297],\n",
       "       [0.91235019],\n",
       "       [0.90684685],\n",
       "       [0.88382364],\n",
       "       [0.8586798 ],\n",
       "       [0.85363085]])"
      ]
     },
     "execution_count": 64,
     "metadata": {},
     "output_type": "execute_result"
    }
   ],
   "source": [
    "last_sequence = np.reshape(X_test[-1], (1, X_test[-1].shape[0], X_test[-1].shape[1]))\n",
    "prediction = model.predict(last_sequence)\n",
    "prediction\n",
    "X_test[-1][1:]"
   ]
  },
  {
   "cell_type": "code",
   "execution_count": 65,
   "metadata": {},
   "outputs": [],
   "source": [
    "def forecast(model, X_test, forecast_steps):\n",
    "    shape1, shape2 = X_test[-1].shape[0], X_test[-1].shape[1]\n",
    "    \n",
    "    for i in range(forecast_steps):\n",
    "        #get prediction for last timesequence\n",
    "        last_sequence = np.reshape(X_test[-1], (1, shape1, shape2))\n",
    "        prediction = model.predict(last_sequence)\n",
    "        \n",
    "        #create new instance for X_test set\n",
    "        new_instance = np.append(X_test[-1][1:], prediction)\n",
    "        \n",
    "        X_test = np.append(X_test[1:], new_instance)\n",
    "    \n",
    "    return prediction\n",
    "#TODO predict\n",
    "    "
   ]
  },
  {
   "cell_type": "code",
   "execution_count": null,
   "metadata": {},
   "outputs": [],
   "source": [
    "import matplotlib.pyplot as plt\n",
    "\n",
    "plt.figure(figsize=(16, 9), dpi=80)\n",
    "plt.plot(test_targets, color = 'blue', label = 'Real Stock Prices')\n",
    "plt.plot(test_predictions, color = 'green', label = 'Predicted Stock Prices')\n",
    "plt.title('Stock Price Prediction')\n",
    "plt.xlabel('Time')\n",
    "plt.ylabel('Price')\n",
    "plt.legend()\n",
    "plt.show()"
   ]
  }
 ],
 "metadata": {
  "kernelspec": {
   "display_name": "Python 3",
   "language": "python",
   "name": "python3"
  },
  "language_info": {
   "codemirror_mode": {
    "name": "ipython",
    "version": 3
   },
   "file_extension": ".py",
   "mimetype": "text/x-python",
   "name": "python",
   "nbconvert_exporter": "python",
   "pygments_lexer": "ipython3",
   "version": "3.10.11"
  }
 },
 "nbformat": 4,
 "nbformat_minor": 2
}
